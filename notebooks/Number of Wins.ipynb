{
 "cells": [
  {
   "cell_type": "code",
   "execution_count": 1,
   "metadata": {},
   "outputs": [
    {
     "name": "stderr",
     "output_type": "stream",
     "text": [
      "Using TensorFlow backend.\n"
     ]
    }
   ],
   "source": [
    "import pandas as pd\n",
    "from piex import explorer\n",
    "\n",
    "from mit_d3m.db import get_db"
   ]
  },
  {
   "cell_type": "code",
   "execution_count": 146,
   "metadata": {},
   "outputs": [],
   "source": [
    "db = get_db(config='../mongodb_config.json')"
   ]
  },
  {
   "cell_type": "code",
   "execution_count": 147,
   "metadata": {},
   "outputs": [],
   "source": [
    "piex = explorer.MongoPipelineExplorer(db)"
   ]
  },
  {
   "cell_type": "code",
   "execution_count": 148,
   "metadata": {},
   "outputs": [],
   "source": [
    "import numpy as np\n",
    "\n",
    "def normalize(metric_type, min_value=None, max_value=None):\n",
    "    def f(raw):\n",
    "        if metric_type == 'zero_one_score':\n",
    "            return raw\n",
    "        elif metric_type == 'zero_one_cost':\n",
    "            return 1 - raw\n",
    "        elif metric_type == 'ranged_score':\n",
    "            return (raw - min_value) / (max_value - min_value)\n",
    "        elif metric_type == 'real_score':\n",
    "            return 1 / (1 + np.exp(-raw))\n",
    "        elif metric_type == 'real_cost':\n",
    "            return 1 - (1 / (1 + np.exp(-raw)))\n",
    "        elif metric_type == 'zero_inf_score':\n",
    "            return 1 / (1 + np.exp(-np.log10(raw)))\n",
    "        elif metric_type == 'zero_inf_cost':\n",
    "            return 1 - 1 / (1 + np.exp(-np.log10(raw)))\n",
    "        else:\n",
    "            raise ValueError('Unknown metric type')\n",
    "    \n",
    "    return f"
   ]
  },
  {
   "cell_type": "code",
   "execution_count": 189,
   "metadata": {},
   "outputs": [],
   "source": [
    "METRIC_TYPES = {\n",
    "    'f1': 'zero_one_score',\n",
    "    'f1Macro': 'zero_one_score',\n",
    "    'accuracy': 'zero_one_score',\n",
    "    'normalizedMutualInformation': 'zero_one_score',\n",
    "    'meanSquaredError': 'zero_inf_cost',\n",
    "    'rootMeanSquaredError': 'zero_inf_cost',\n",
    "}"
   ]
  },
  {
   "cell_type": "code",
   "execution_count": 150,
   "metadata": {},
   "outputs": [],
   "source": [
    "def normalize_score(metric_column, score_column):\n",
    "    def f(row):\n",
    "        return normalize(METRIC_TYPES[row.metric])(row.cv_score)\n",
    "    \n",
    "    return f"
   ]
  },
  {
   "cell_type": "code",
   "execution_count": 152,
   "metadata": {},
   "outputs": [],
   "source": [
    "def get_best(group):\n",
    "    return group.sort_values('t-score', ascending=False).iloc[0]\n",
    "\n",
    "def best_score_by_dataset(df):\n",
    "    return df.groupby('dataset').apply(get_best)['t-score']"
   ]
  },
  {
   "cell_type": "code",
   "execution_count": 229,
   "metadata": {},
   "outputs": [],
   "source": [
    "def get_wins(dfs, conditions):\n",
    "    wins = []\n",
    "    (name_a, condition_a), (name_b, condition_b) = list(conditions.items())\n",
    "    for name, df in dfs.items():\n",
    "        df['t-score'] = df.apply(normalize_score('metric', 'cv_score'), axis=1)\n",
    "\n",
    "        best_scores = pd.DataFrame({\n",
    "            name_a: best_score_by_dataset(df[condition_a(df)]),\n",
    "            name_b: best_score_by_dataset(df[condition_b(df)])\n",
    "        }).fillna(0)\n",
    "\n",
    "        wins.append(pd.Series({\n",
    "                name_a: (best_scores[name_a] > best_scores[name_b]).sum(),\n",
    "                name_b: (best_scores[name_a] < best_scores[name_b]).sum(),\n",
    "                'TIE': (best_scores[name_a] == best_scores[name_b]).sum()\n",
    "            }, name=name))\n",
    "    \n",
    "    return pd.DataFrame(wins).T"
   ]
  },
  {
   "cell_type": "markdown",
   "metadata": {},
   "source": [
    "# XGB vs RF"
   ]
  },
  {
   "cell_type": "markdown",
   "metadata": {},
   "source": [
    "## Single table Classification + Regression"
   ]
  },
  {
   "cell_type": "code",
   "execution_count": 156,
   "metadata": {},
   "outputs": [],
   "source": [
    "st_classification = piex.get_test_results(data_modality='single_table', task_type='classification')\n",
    "st_regression = piex.get_test_results(data_modality='single_table', task_type='regression')"
   ]
  },
  {
   "cell_type": "code",
   "execution_count": 235,
   "metadata": {},
   "outputs": [],
   "source": [
    "def is_xgb(df):\n",
    "    return df.pipeline.str.contains('xgb').fillna(False)\n",
    "\n",
    "def is_rf(df):\n",
    "    return df.pipeline.str.contains('random_forest').fillna(False)"
   ]
  },
  {
   "cell_type": "code",
   "execution_count": 243,
   "metadata": {},
   "outputs": [],
   "source": [
    "dfs = {\n",
    "    'single_table/classification': st_classification,\n",
    "    'single_table/regression': st_regression,\n",
    "}\n",
    "xgb_vs_rf = {\n",
    "    'XGB': is_xgb,\n",
    "    'RF': is_rf,\n",
    "}"
   ]
  },
  {
   "cell_type": "code",
   "execution_count": 239,
   "metadata": {},
   "outputs": [
    {
     "data": {
      "text/html": [
       "<div>\n",
       "<style scoped>\n",
       "    .dataframe tbody tr th:only-of-type {\n",
       "        vertical-align: middle;\n",
       "    }\n",
       "\n",
       "    .dataframe tbody tr th {\n",
       "        vertical-align: top;\n",
       "    }\n",
       "\n",
       "    .dataframe thead th {\n",
       "        text-align: right;\n",
       "    }\n",
       "</style>\n",
       "<table border=\"1\" class=\"dataframe\">\n",
       "  <thead>\n",
       "    <tr style=\"text-align: right;\">\n",
       "      <th></th>\n",
       "      <th>single_table/classification</th>\n",
       "      <th>single_table/regression</th>\n",
       "    </tr>\n",
       "  </thead>\n",
       "  <tbody>\n",
       "    <tr>\n",
       "      <th>XGB</th>\n",
       "      <td>169</td>\n",
       "      <td>61</td>\n",
       "    </tr>\n",
       "    <tr>\n",
       "      <th>RF</th>\n",
       "      <td>51</td>\n",
       "      <td>25</td>\n",
       "    </tr>\n",
       "    <tr>\n",
       "      <th>TIE</th>\n",
       "      <td>14</td>\n",
       "      <td>0</td>\n",
       "    </tr>\n",
       "  </tbody>\n",
       "</table>\n",
       "</div>"
      ],
      "text/plain": [
       "     single_table/classification  single_table/regression\n",
       "XGB                          169                       61\n",
       "RF                            51                       25\n",
       "TIE                           14                        0"
      ]
     },
     "execution_count": 239,
     "metadata": {},
     "output_type": "execute_result"
    }
   ],
   "source": [
    "get_wins(dfs, xgb_vs_rf)"
   ]
  },
  {
   "cell_type": "markdown",
   "metadata": {},
   "source": [
    "## Graph"
   ]
  },
  {
   "cell_type": "code",
   "execution_count": 234,
   "metadata": {},
   "outputs": [],
   "source": [
    "graph = piex.get_test_results(\n",
    "    data_modality='graph',\n",
    "    task_type={\n",
    "        '$in': [\n",
    "            'link_prediction',\n",
    "            'vertex_nomination',\n",
    "            'graph_matching'\n",
    "        ]\n",
    "    }\n",
    ").dropna(subset=['cv_score'])"
   ]
  },
  {
   "cell_type": "code",
   "execution_count": 249,
   "metadata": {},
   "outputs": [],
   "source": [
    "def is_xgb(df):\n",
    "    return df.pipeline.str.contains('default').fillna(True)\n",
    "\n",
    "def is_rf(df):\n",
    "    return df.pipeline.str.contains('random_forest').fillna(False)\n",
    "\n",
    "xgb_vs_rf = {\n",
    "    'XGB': is_xgb,\n",
    "    'RF': is_rf,\n",
    "}"
   ]
  },
  {
   "cell_type": "code",
   "execution_count": 251,
   "metadata": {},
   "outputs": [
    {
     "data": {
      "text/html": [
       "<div>\n",
       "<style scoped>\n",
       "    .dataframe tbody tr th:only-of-type {\n",
       "        vertical-align: middle;\n",
       "    }\n",
       "\n",
       "    .dataframe tbody tr th {\n",
       "        vertical-align: top;\n",
       "    }\n",
       "\n",
       "    .dataframe thead th {\n",
       "        text-align: right;\n",
       "    }\n",
       "</style>\n",
       "<table border=\"1\" class=\"dataframe\">\n",
       "  <thead>\n",
       "    <tr style=\"text-align: right;\">\n",
       "      <th></th>\n",
       "      <th>graph</th>\n",
       "    </tr>\n",
       "  </thead>\n",
       "  <tbody>\n",
       "    <tr>\n",
       "      <th>XGB</th>\n",
       "      <td>4</td>\n",
       "    </tr>\n",
       "    <tr>\n",
       "      <th>RF</th>\n",
       "      <td>5</td>\n",
       "    </tr>\n",
       "    <tr>\n",
       "      <th>TIE</th>\n",
       "      <td>2</td>\n",
       "    </tr>\n",
       "  </tbody>\n",
       "</table>\n",
       "</div>"
      ],
      "text/plain": [
       "     graph\n",
       "XGB      4\n",
       "RF       5\n",
       "TIE      2"
      ]
     },
     "execution_count": 251,
     "metadata": {},
     "output_type": "execute_result"
    }
   ],
   "source": [
    "get_wins({'graph': graph}, xgb_vs_rf)"
   ]
  },
  {
   "cell_type": "markdown",
   "metadata": {},
   "source": [
    "# DFS vs No DFS"
   ]
  },
  {
   "cell_type": "code",
   "execution_count": 182,
   "metadata": {},
   "outputs": [],
   "source": [
    "def is_dfs(df):\n",
    "    return df.pipeline.str.startswith('dfs').fillna(False)\n",
    "\n",
    "def is_no_dfs(df):\n",
    "    return ~df.pipeline.str.startswith('dfs').fillna(True)"
   ]
  },
  {
   "cell_type": "code",
   "execution_count": 183,
   "metadata": {},
   "outputs": [],
   "source": [
    "dfs_vs_no_dfs = {\n",
    "    'DFS': is_dfs,\n",
    "    'No DFS': is_no_dfs\n",
    "}"
   ]
  },
  {
   "cell_type": "code",
   "execution_count": 184,
   "metadata": {},
   "outputs": [
    {
     "data": {
      "text/html": [
       "<div>\n",
       "<style scoped>\n",
       "    .dataframe tbody tr th:only-of-type {\n",
       "        vertical-align: middle;\n",
       "    }\n",
       "\n",
       "    .dataframe tbody tr th {\n",
       "        vertical-align: top;\n",
       "    }\n",
       "\n",
       "    .dataframe thead th {\n",
       "        text-align: right;\n",
       "    }\n",
       "</style>\n",
       "<table border=\"1\" class=\"dataframe\">\n",
       "  <thead>\n",
       "    <tr style=\"text-align: right;\">\n",
       "      <th></th>\n",
       "      <th>single_table/classification</th>\n",
       "      <th>single_table/regression</th>\n",
       "    </tr>\n",
       "  </thead>\n",
       "  <tbody>\n",
       "    <tr>\n",
       "      <th>DFS</th>\n",
       "      <td>47</td>\n",
       "      <td>16</td>\n",
       "    </tr>\n",
       "    <tr>\n",
       "      <th>No DFS</th>\n",
       "      <td>153</td>\n",
       "      <td>67</td>\n",
       "    </tr>\n",
       "    <tr>\n",
       "      <th>TIE</th>\n",
       "      <td>34</td>\n",
       "      <td>3</td>\n",
       "    </tr>\n",
       "  </tbody>\n",
       "</table>\n",
       "</div>"
      ],
      "text/plain": [
       "        single_table/classification  single_table/regression\n",
       "DFS                              47                       16\n",
       "No DFS                          153                       67\n",
       "TIE                              34                        3"
      ]
     },
     "execution_count": 184,
     "metadata": {},
     "output_type": "execute_result"
    }
   ],
   "source": [
    "get_wins(dfs, dfs_vs_no_dfs)"
   ]
  }
 ],
 "metadata": {
  "kernelspec": {
   "display_name": "Python 3",
   "language": "python",
   "name": "python3"
  },
  "language_info": {
   "codemirror_mode": {
    "name": "ipython",
    "version": 3
   },
   "file_extension": ".py",
   "mimetype": "text/x-python",
   "name": "python",
   "nbconvert_exporter": "python",
   "pygments_lexer": "ipython3",
   "version": "3.6.6"
  }
 },
 "nbformat": 4,
 "nbformat_minor": 2
}
