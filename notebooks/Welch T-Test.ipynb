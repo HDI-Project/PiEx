{
 "cells": [
  {
   "cell_type": "code",
   "execution_count": 888,
   "metadata": {},
   "outputs": [],
   "source": [
    "import pandas as pd\n",
    "from piex import explorer"
   ]
  },
  {
   "cell_type": "code",
   "execution_count": 890,
   "metadata": {},
   "outputs": [
    {
     "name": "stderr",
     "output_type": "stream",
     "text": [
      "Using TensorFlow backend.\n"
     ]
    }
   ],
   "source": [
    "from mit_d3m.db import get_db"
   ]
  },
  {
   "cell_type": "code",
   "execution_count": 891,
   "metadata": {},
   "outputs": [],
   "source": [
    "db = get_db('ta2')"
   ]
  },
  {
   "cell_type": "code",
   "execution_count": 892,
   "metadata": {},
   "outputs": [],
   "source": [
    "piex = explorer.MongoPipelineExplorer(db)"
   ]
  },
  {
   "cell_type": "code",
   "execution_count": 893,
   "metadata": {},
   "outputs": [],
   "source": [
    "df = piex.get_test_results(data_modality='single_table', task_type='regression')"
   ]
  },
  {
   "cell_type": "code",
   "execution_count": 894,
   "metadata": {},
   "outputs": [
    {
     "data": {
      "text/plain": [
       "Index(['cv_score', 'cv_time', 'data_modality', 'dataset', 'elapsed', 'error',\n",
       "       'fit_time', 'insert_ts', 'iterations', 'load_time', 'metric', 'rank',\n",
       "       'score', 'step', 'task_subtype', 'task_type', 'test_id', 'trivial_time',\n",
       "       'budget', 'checkpoints', 'commit', 'docker', 'hostname', 'image',\n",
       "       'insert_ts_results', 'pipeline', 'status', 'timeout', 'update_ts'],\n",
       "      dtype='object')"
      ]
     },
     "execution_count": 894,
     "metadata": {},
     "output_type": "execute_result"
    }
   ],
   "source": [
    "df.columns"
   ]
  },
  {
   "cell_type": "code",
   "execution_count": 896,
   "metadata": {},
   "outputs": [],
   "source": [
    "import numpy as np\n",
    "\n",
    "def normalize(metric_type, min_value=None, max_value=None):\n",
    "    def f(raw):\n",
    "        if metric_type == 'zero_one_score':\n",
    "            return raw\n",
    "        elif metric_type == 'zero_one_cost':\n",
    "            return 1 - raw\n",
    "        elif metric_type == 'ranged_score':\n",
    "            return (raw - min_value) / (max_value - min_value)\n",
    "        elif metric_type == 'real_score':\n",
    "            return 1 / (1 + np.exp(-raw))\n",
    "        elif metric_type == 'real_cost':\n",
    "            return 1 - (1 / (1 + np.exp(-raw)))\n",
    "        elif metric_type == 'zero_inf_score':\n",
    "            return 1 / (1 + np.exp(-np.log10(raw)))\n",
    "        elif metric_type == 'zero_inf_cost':\n",
    "            return 1 - 1 / (1 + np.exp(-np.log10(raw)))\n",
    "        else:\n",
    "            raise ValueError('Unknown metric type')\n",
    "    \n",
    "    return f"
   ]
  },
  {
   "cell_type": "code",
   "execution_count": 897,
   "metadata": {},
   "outputs": [],
   "source": [
    "METRIC_TYPES = {\n",
    "    'f1': 'zero_one_score',\n",
    "    'f1Macro': 'zero_one_score',\n",
    "    'accuracy': 'zero_one_score',\n",
    "    'meanSquaredError': 'zero_inf_cost',\n",
    "    'rootMeanSquaredError': 'zero_inf_cost',\n",
    "}"
   ]
  },
  {
   "cell_type": "code",
   "execution_count": 898,
   "metadata": {},
   "outputs": [],
   "source": [
    "def normalize_df(s):\n",
    "    return normalize(METRIC_TYPES[s.metric])(s.cv_score)"
   ]
  },
  {
   "cell_type": "code",
   "execution_count": 878,
   "metadata": {},
   "outputs": [],
   "source": [
    "def get_scores(df):\n",
    "    df = df.copy()\n",
    "    df['transcore'] = df.apply(normalize_df, axis=1)\n",
    "    stats = df.groupby('dataset')['transcore'].agg(['mean', 'std', 'min', 'max', 'median'])\n",
    "    \n",
    "    #rank_stats = df.groupby('dataset')['rank'].agg(['mean', 'std', 'min', 'max', 'median'])\n",
    "    #rank_stats['range'] = rank_stats['max'] - rank_stats['min']\n",
    "    #rank_stats['midpoint'] = rank_stats['min'] + rank_stats['range'] / 2\n",
    "    \n",
    "    df = df.merge(stats, how='left', on='dataset')\n",
    "    #df = df.merge(rank_stats, how='left', on='dataset', suffixes=('', '_rank'))\n",
    "    #df['z-score'] = (df['rank'] - df['mean_rank']) / df['std_rank']\n",
    "    #df['r-score'] = (df['rank'] - df['midpoint']) / df['range']\n",
    "    #df['ranking'] = df.groupby('dataset')['rank'].rank(method='dense')\n",
    "    df['nist-avg'] = (df['transcore'] - df['mean']) / df['mean']\n",
    "    df['nist-median'] = (df['transcore'] - df['median']) / df['median']\n",
    "    df['z-score'] = (df['transcore'] - df['mean']) / df['std']\n",
    "    \n",
    "    return df\n",
    "\n",
    "scores = get_scores(df)"
   ]
  },
  {
   "cell_type": "code",
   "execution_count": 879,
   "metadata": {},
   "outputs": [],
   "source": [
    "def get_order(df):\n",
    "    df = df.sort_values('elapsed')\n",
    "    df['order'] = list(range(1, len(df) + 1))\n",
    "    return df['order']\n",
    "\n",
    "checkpoint = scores.groupby(['dataset', 'test_id']).apply(get_order)\n",
    "checkpoint = checkpoint.reset_index(level=0, drop=True).reset_index(level=0, drop=True)\n",
    "scores['checkpoint'] = checkpoint"
   ]
  },
  {
   "cell_type": "code",
   "execution_count": 880,
   "metadata": {},
   "outputs": [],
   "source": [
    "from scipy.stats import ttest_ind\n",
    "\n",
    "def ttest(df, column, condition):\n",
    "    test_a = df[condition]\n",
    "    test_b = df[~condition]\n",
    "    tvalue = column + '-t-value'\n",
    "    pvalue = column + '-p-value'\n",
    "\n",
    "    values = list()\n",
    "    for checkpoint in test_a.checkpoint.unique():\n",
    "        set_a = test_a[test_a.checkpoint == checkpoint]\n",
    "        set_b = test_b[test_b.checkpoint == checkpoint]\n",
    "\n",
    "        value = {'checkpoint': checkpoint}\n",
    "        if not (set_a.empty or set_b.empty):\n",
    "            ttest = ttest_ind(set_a[column].dropna(), set_b[column].dropna(), equal_var=False)\n",
    "            \n",
    "            value[tvalue] = ttest.statistic\n",
    "            value[pvalue] = ttest.pvalue\n",
    "        \n",
    "        values.append(value)\n",
    "    \n",
    "    return pd.DataFrame(values).set_index('checkpoint')[[tvalue, pvalue]]"
   ]
  },
  {
   "cell_type": "code",
   "execution_count": 881,
   "metadata": {},
   "outputs": [],
   "source": [
    "df_a = scores[scores.pipeline.str.startswith('dfs')]\n",
    "df_b = scores[~scores.pipeline.str.startswith('dfs')]"
   ]
  },
  {
   "cell_type": "code",
   "execution_count": 882,
   "metadata": {},
   "outputs": [
    {
     "data": {
      "text/html": [
       "<div>\n",
       "<style scoped>\n",
       "    .dataframe tbody tr th:only-of-type {\n",
       "        vertical-align: middle;\n",
       "    }\n",
       "\n",
       "    .dataframe tbody tr th {\n",
       "        vertical-align: top;\n",
       "    }\n",
       "\n",
       "    .dataframe thead th {\n",
       "        text-align: right;\n",
       "    }\n",
       "</style>\n",
       "<table border=\"1\" class=\"dataframe\">\n",
       "  <thead>\n",
       "    <tr style=\"text-align: right;\">\n",
       "      <th></th>\n",
       "      <th>nist-avg-t-value</th>\n",
       "      <th>nist-avg-p-value</th>\n",
       "    </tr>\n",
       "    <tr>\n",
       "      <th>checkpoint</th>\n",
       "      <th></th>\n",
       "      <th></th>\n",
       "    </tr>\n",
       "  </thead>\n",
       "  <tbody>\n",
       "    <tr>\n",
       "      <th>1</th>\n",
       "      <td>-1.705782</td>\n",
       "      <td>0.089029</td>\n",
       "    </tr>\n",
       "    <tr>\n",
       "      <th>2</th>\n",
       "      <td>-1.254160</td>\n",
       "      <td>0.210687</td>\n",
       "    </tr>\n",
       "    <tr>\n",
       "      <th>3</th>\n",
       "      <td>-1.510771</td>\n",
       "      <td>0.131828</td>\n",
       "    </tr>\n",
       "    <tr>\n",
       "      <th>4</th>\n",
       "      <td>-0.883829</td>\n",
       "      <td>0.377434</td>\n",
       "    </tr>\n",
       "  </tbody>\n",
       "</table>\n",
       "</div>"
      ],
      "text/plain": [
       "            nist-avg-t-value  nist-avg-p-value\n",
       "checkpoint                                    \n",
       "1                  -1.705782          0.089029\n",
       "2                  -1.254160          0.210687\n",
       "3                  -1.510771          0.131828\n",
       "4                  -0.883829          0.377434"
      ]
     },
     "execution_count": 882,
     "metadata": {},
     "output_type": "execute_result"
    }
   ],
   "source": [
    "dfs_avg = ttest(scores, 'nist-avg', scores.pipeline.str.startswith('dfs'))\n",
    "dfs_avg"
   ]
  },
  {
   "cell_type": "code",
   "execution_count": 883,
   "metadata": {},
   "outputs": [
    {
     "data": {
      "text/html": [
       "<div>\n",
       "<style scoped>\n",
       "    .dataframe tbody tr th:only-of-type {\n",
       "        vertical-align: middle;\n",
       "    }\n",
       "\n",
       "    .dataframe tbody tr th {\n",
       "        vertical-align: top;\n",
       "    }\n",
       "\n",
       "    .dataframe thead th {\n",
       "        text-align: right;\n",
       "    }\n",
       "</style>\n",
       "<table border=\"1\" class=\"dataframe\">\n",
       "  <thead>\n",
       "    <tr style=\"text-align: right;\">\n",
       "      <th></th>\n",
       "      <th>nist-median-t-value</th>\n",
       "      <th>nist-median-p-value</th>\n",
       "    </tr>\n",
       "    <tr>\n",
       "      <th>checkpoint</th>\n",
       "      <th></th>\n",
       "      <th></th>\n",
       "    </tr>\n",
       "  </thead>\n",
       "  <tbody>\n",
       "    <tr>\n",
       "      <th>1</th>\n",
       "      <td>-1.678676</td>\n",
       "      <td>0.094204</td>\n",
       "    </tr>\n",
       "    <tr>\n",
       "      <th>2</th>\n",
       "      <td>-1.256517</td>\n",
       "      <td>0.209838</td>\n",
       "    </tr>\n",
       "    <tr>\n",
       "      <th>3</th>\n",
       "      <td>-1.533065</td>\n",
       "      <td>0.126257</td>\n",
       "    </tr>\n",
       "    <tr>\n",
       "      <th>4</th>\n",
       "      <td>-0.959977</td>\n",
       "      <td>0.337775</td>\n",
       "    </tr>\n",
       "  </tbody>\n",
       "</table>\n",
       "</div>"
      ],
      "text/plain": [
       "            nist-median-t-value  nist-median-p-value\n",
       "checkpoint                                          \n",
       "1                     -1.678676             0.094204\n",
       "2                     -1.256517             0.209838\n",
       "3                     -1.533065             0.126257\n",
       "4                     -0.959977             0.337775"
      ]
     },
     "execution_count": 883,
     "metadata": {},
     "output_type": "execute_result"
    }
   ],
   "source": [
    "dfs_median = ttest(scores, 'nist-median', scores.pipeline.str.startswith('dfs'))\n",
    "dfs_median"
   ]
  },
  {
   "cell_type": "code",
   "execution_count": 884,
   "metadata": {},
   "outputs": [
    {
     "data": {
      "text/html": [
       "<div>\n",
       "<style scoped>\n",
       "    .dataframe tbody tr th:only-of-type {\n",
       "        vertical-align: middle;\n",
       "    }\n",
       "\n",
       "    .dataframe tbody tr th {\n",
       "        vertical-align: top;\n",
       "    }\n",
       "\n",
       "    .dataframe thead th {\n",
       "        text-align: right;\n",
       "    }\n",
       "</style>\n",
       "<table border=\"1\" class=\"dataframe\">\n",
       "  <thead>\n",
       "    <tr style=\"text-align: right;\">\n",
       "      <th></th>\n",
       "      <th>nist-avg-t-value</th>\n",
       "      <th>nist-avg-p-value</th>\n",
       "    </tr>\n",
       "    <tr>\n",
       "      <th>checkpoint</th>\n",
       "      <th></th>\n",
       "      <th></th>\n",
       "    </tr>\n",
       "  </thead>\n",
       "  <tbody>\n",
       "    <tr>\n",
       "      <th>1</th>\n",
       "      <td>8.072268</td>\n",
       "      <td>1.800572e-14</td>\n",
       "    </tr>\n",
       "    <tr>\n",
       "      <th>2</th>\n",
       "      <td>7.989280</td>\n",
       "      <td>2.517871e-14</td>\n",
       "    </tr>\n",
       "    <tr>\n",
       "      <th>3</th>\n",
       "      <td>7.605354</td>\n",
       "      <td>2.945829e-13</td>\n",
       "    </tr>\n",
       "    <tr>\n",
       "      <th>4</th>\n",
       "      <td>6.963872</td>\n",
       "      <td>1.792276e-11</td>\n",
       "    </tr>\n",
       "  </tbody>\n",
       "</table>\n",
       "</div>"
      ],
      "text/plain": [
       "            nist-avg-t-value  nist-avg-p-value\n",
       "checkpoint                                    \n",
       "1                   8.072268      1.800572e-14\n",
       "2                   7.989280      2.517871e-14\n",
       "3                   7.605354      2.945829e-13\n",
       "4                   6.963872      1.792276e-11"
      ]
     },
     "execution_count": 884,
     "metadata": {},
     "output_type": "execute_result"
    }
   ],
   "source": [
    "xgb_avg = ttest(scores, 'nist-avg', scores.pipeline.str.contains('xgb'))\n",
    "xgb_avg"
   ]
  },
  {
   "cell_type": "code",
   "execution_count": 885,
   "metadata": {},
   "outputs": [
    {
     "data": {
      "text/html": [
       "<div>\n",
       "<style scoped>\n",
       "    .dataframe tbody tr th:only-of-type {\n",
       "        vertical-align: middle;\n",
       "    }\n",
       "\n",
       "    .dataframe tbody tr th {\n",
       "        vertical-align: top;\n",
       "    }\n",
       "\n",
       "    .dataframe thead th {\n",
       "        text-align: right;\n",
       "    }\n",
       "</style>\n",
       "<table border=\"1\" class=\"dataframe\">\n",
       "  <thead>\n",
       "    <tr style=\"text-align: right;\">\n",
       "      <th></th>\n",
       "      <th>nist-median-t-value</th>\n",
       "      <th>nist-median-p-value</th>\n",
       "    </tr>\n",
       "    <tr>\n",
       "      <th>checkpoint</th>\n",
       "      <th></th>\n",
       "      <th></th>\n",
       "    </tr>\n",
       "  </thead>\n",
       "  <tbody>\n",
       "    <tr>\n",
       "      <th>1</th>\n",
       "      <td>7.511824</td>\n",
       "      <td>9.460779e-13</td>\n",
       "    </tr>\n",
       "    <tr>\n",
       "      <th>2</th>\n",
       "      <td>7.631549</td>\n",
       "      <td>3.698816e-13</td>\n",
       "    </tr>\n",
       "    <tr>\n",
       "      <th>3</th>\n",
       "      <td>7.439453</td>\n",
       "      <td>1.025517e-12</td>\n",
       "    </tr>\n",
       "    <tr>\n",
       "      <th>4</th>\n",
       "      <td>7.028937</td>\n",
       "      <td>1.222168e-11</td>\n",
       "    </tr>\n",
       "  </tbody>\n",
       "</table>\n",
       "</div>"
      ],
      "text/plain": [
       "            nist-median-t-value  nist-median-p-value\n",
       "checkpoint                                          \n",
       "1                      7.511824         9.460779e-13\n",
       "2                      7.631549         3.698816e-13\n",
       "3                      7.439453         1.025517e-12\n",
       "4                      7.028937         1.222168e-11"
      ]
     },
     "execution_count": 885,
     "metadata": {},
     "output_type": "execute_result"
    }
   ],
   "source": [
    "xgb_median = ttest(scores, 'nist-median', scores.pipeline.str.contains('xgb'))\n",
    "xgb_median"
   ]
  },
  {
   "cell_type": "code",
   "execution_count": 886,
   "metadata": {},
   "outputs": [],
   "source": [
    "pd.concat([xgb_avg, xgb_median], axis=1).to_csv('xgb_vs_random_forest.single_table_regression.ttest.csv')"
   ]
  },
  {
   "cell_type": "code",
   "execution_count": 887,
   "metadata": {},
   "outputs": [],
   "source": [
    "pd.concat([dfs_avg, dfs_median], axis=1).to_csv('dfs_vs_nodfs.single_table_regression.ttest.csv')"
   ]
  }
 ],
 "metadata": {
  "kernelspec": {
   "display_name": "Python 3",
   "language": "python",
   "name": "python3"
  },
  "language_info": {
   "codemirror_mode": {
    "name": "ipython",
    "version": 3
   },
   "file_extension": ".py",
   "mimetype": "text/x-python",
   "name": "python",
   "nbconvert_exporter": "python",
   "pygments_lexer": "ipython3",
   "version": "3.6.6"
  }
 },
 "nbformat": 4,
 "nbformat_minor": 2
}
