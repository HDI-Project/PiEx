{
 "cells": [
  {
   "cell_type": "code",
   "execution_count": 1,
   "metadata": {},
   "outputs": [],
   "source": [
    "import pandas as pd\n",
    "from piex import explorer"
   ]
  },
  {
   "cell_type": "code",
   "execution_count": 2,
   "metadata": {},
   "outputs": [],
   "source": [
    "piex = explorer.PipelineExplorer('ml-pipelines-2018')"
   ]
  },
  {
   "cell_type": "code",
   "execution_count": 3,
   "metadata": {},
   "outputs": [],
   "source": [
    "df = piex.get_test_results(data_modality='single_table', task_type='classification')"
   ]
  },
  {
   "cell_type": "code",
   "execution_count": 4,
   "metadata": {},
   "outputs": [],
   "source": [
    "def get_scores(df):\n",
    "    stats = df.groupby('dataset')['rank'].agg(['mean', 'std', 'min', 'max'])\n",
    "    stats['range'] = stats['max'] - stats['min']\n",
    "    stats['midpoint'] = stats['min'] + stats['range'] / 2\n",
    "    \n",
    "    df = df.merge(stats, how='left', on='dataset')\n",
    "    df['t-score'] = (df['rank'] - df['mean']) / df['std']\n",
    "    df['r-score'] = (df['rank'] - df['midpoint']) / df['range']\n",
    "    df['ranking'] = df.groupby('dataset')['rank'].rank(method='dense')\n",
    "    \n",
    "    return df\n",
    "\n",
    "scores = get_scores(df)"
   ]
  },
  {
   "cell_type": "code",
   "execution_count": 5,
   "metadata": {},
   "outputs": [],
   "source": [
    "def rank_pipelines(df, metric='t-score'):\n",
    "    scores = get_scores(df)\n",
    "    pipeline_scores = scores.groupby('pipeline')[['t-score', 'r-score', 'ranking']].mean()\n",
    "    return pipeline_scores.sort_values(metric)"
   ]
  },
  {
   "cell_type": "code",
   "execution_count": 6,
   "metadata": {},
   "outputs": [
    {
     "data": {
      "text/html": [
       "<div>\n",
       "<style scoped>\n",
       "    .dataframe tbody tr th:only-of-type {\n",
       "        vertical-align: middle;\n",
       "    }\n",
       "\n",
       "    .dataframe tbody tr th {\n",
       "        vertical-align: top;\n",
       "    }\n",
       "\n",
       "    .dataframe thead th {\n",
       "        text-align: right;\n",
       "    }\n",
       "</style>\n",
       "<table border=\"1\" class=\"dataframe\">\n",
       "  <thead>\n",
       "    <tr style=\"text-align: right;\">\n",
       "      <th></th>\n",
       "      <th>t-score</th>\n",
       "      <th>r-score</th>\n",
       "      <th>ranking</th>\n",
       "    </tr>\n",
       "    <tr>\n",
       "      <th>pipeline</th>\n",
       "      <th></th>\n",
       "      <th></th>\n",
       "      <th></th>\n",
       "    </tr>\n",
       "  </thead>\n",
       "  <tbody>\n",
       "    <tr>\n",
       "      <th>categorical_encoder/imputer/standard_scaler/xgbclassifier</th>\n",
       "      <td>-0.623300</td>\n",
       "      <td>-0.323580</td>\n",
       "      <td>3.067380</td>\n",
       "    </tr>\n",
       "    <tr>\n",
       "      <th>dfs/categorical_encoder/imputer/standard_scaler/xgbclassifier</th>\n",
       "      <td>-0.317369</td>\n",
       "      <td>-0.229551</td>\n",
       "      <td>4.577088</td>\n",
       "    </tr>\n",
       "    <tr>\n",
       "      <th>categorical_encoder/imputer/standard_scaler/random_forest_classifier</th>\n",
       "      <td>0.131168</td>\n",
       "      <td>-0.045852</td>\n",
       "      <td>5.897436</td>\n",
       "    </tr>\n",
       "    <tr>\n",
       "      <th>dfs/categorical_encoder/imputer/standard_scaler/random_forest_classifier</th>\n",
       "      <td>0.808199</td>\n",
       "      <td>0.179472</td>\n",
       "      <td>7.525641</td>\n",
       "    </tr>\n",
       "  </tbody>\n",
       "</table>\n",
       "</div>"
      ],
      "text/plain": [
       "                                                     t-score   r-score  \\\n",
       "pipeline                                                                 \n",
       "categorical_encoder/imputer/standard_scaler/xgb... -0.623300 -0.323580   \n",
       "dfs/categorical_encoder/imputer/standard_scaler... -0.317369 -0.229551   \n",
       "categorical_encoder/imputer/standard_scaler/ran...  0.131168 -0.045852   \n",
       "dfs/categorical_encoder/imputer/standard_scaler...  0.808199  0.179472   \n",
       "\n",
       "                                                     ranking  \n",
       "pipeline                                                      \n",
       "categorical_encoder/imputer/standard_scaler/xgb...  3.067380  \n",
       "dfs/categorical_encoder/imputer/standard_scaler...  4.577088  \n",
       "categorical_encoder/imputer/standard_scaler/ran...  5.897436  \n",
       "dfs/categorical_encoder/imputer/standard_scaler...  7.525641  "
      ]
     },
     "execution_count": 6,
     "metadata": {},
     "output_type": "execute_result"
    }
   ],
   "source": [
    "rank_pipelines(df)"
   ]
  },
  {
   "cell_type": "code",
   "execution_count": 7,
   "metadata": {
    "scrolled": true
   },
   "outputs": [],
   "source": [
    "def split_datasets(df):\n",
    "    datasets = pd.Series(df.dataset.unique())\n",
    "    datasets = datasets.sample(len(datasets))\n",
    "    half = int(len(datasets) / 2)\n",
    "    \n",
    "    first_half = df[df.dataset.isin(datasets[:half])]\n",
    "    second_half = df[df.dataset.isin(datasets[half:])]\n",
    "    \n",
    "    return first_half, second_half\n",
    "\n",
    "first_half, second_half = split_datasets(df)"
   ]
  },
  {
   "cell_type": "code",
   "execution_count": 8,
   "metadata": {},
   "outputs": [
    {
     "data": {
      "text/html": [
       "<div>\n",
       "<style scoped>\n",
       "    .dataframe tbody tr th:only-of-type {\n",
       "        vertical-align: middle;\n",
       "    }\n",
       "\n",
       "    .dataframe tbody tr th {\n",
       "        vertical-align: top;\n",
       "    }\n",
       "\n",
       "    .dataframe thead th {\n",
       "        text-align: right;\n",
       "    }\n",
       "</style>\n",
       "<table border=\"1\" class=\"dataframe\">\n",
       "  <thead>\n",
       "    <tr style=\"text-align: right;\">\n",
       "      <th></th>\n",
       "      <th>t-score</th>\n",
       "      <th>r-score</th>\n",
       "      <th>ranking</th>\n",
       "    </tr>\n",
       "    <tr>\n",
       "      <th>pipeline</th>\n",
       "      <th></th>\n",
       "      <th></th>\n",
       "      <th></th>\n",
       "    </tr>\n",
       "  </thead>\n",
       "  <tbody>\n",
       "    <tr>\n",
       "      <th>categorical_encoder/imputer/standard_scaler/xgbclassifier</th>\n",
       "      <td>-0.625437</td>\n",
       "      <td>-0.320651</td>\n",
       "      <td>3.042735</td>\n",
       "    </tr>\n",
       "    <tr>\n",
       "      <th>dfs/categorical_encoder/imputer/standard_scaler/xgbclassifier</th>\n",
       "      <td>-0.288555</td>\n",
       "      <td>-0.217782</td>\n",
       "      <td>4.672377</td>\n",
       "    </tr>\n",
       "    <tr>\n",
       "      <th>categorical_encoder/imputer/standard_scaler/random_forest_classifier</th>\n",
       "      <td>0.103277</td>\n",
       "      <td>-0.058294</td>\n",
       "      <td>5.850427</td>\n",
       "    </tr>\n",
       "    <tr>\n",
       "      <th>dfs/categorical_encoder/imputer/standard_scaler/random_forest_classifier</th>\n",
       "      <td>0.810076</td>\n",
       "      <td>0.175557</td>\n",
       "      <td>7.542735</td>\n",
       "    </tr>\n",
       "  </tbody>\n",
       "</table>\n",
       "</div>"
      ],
      "text/plain": [
       "                                                     t-score   r-score  \\\n",
       "pipeline                                                                 \n",
       "categorical_encoder/imputer/standard_scaler/xgb... -0.625437 -0.320651   \n",
       "dfs/categorical_encoder/imputer/standard_scaler... -0.288555 -0.217782   \n",
       "categorical_encoder/imputer/standard_scaler/ran...  0.103277 -0.058294   \n",
       "dfs/categorical_encoder/imputer/standard_scaler...  0.810076  0.175557   \n",
       "\n",
       "                                                     ranking  \n",
       "pipeline                                                      \n",
       "categorical_encoder/imputer/standard_scaler/xgb...  3.042735  \n",
       "dfs/categorical_encoder/imputer/standard_scaler...  4.672377  \n",
       "categorical_encoder/imputer/standard_scaler/ran...  5.850427  \n",
       "dfs/categorical_encoder/imputer/standard_scaler...  7.542735  "
      ]
     },
     "execution_count": 8,
     "metadata": {},
     "output_type": "execute_result"
    }
   ],
   "source": [
    "rank_pipelines(first_half)"
   ]
  },
  {
   "cell_type": "code",
   "execution_count": 9,
   "metadata": {},
   "outputs": [
    {
     "data": {
      "text/html": [
       "<div>\n",
       "<style scoped>\n",
       "    .dataframe tbody tr th:only-of-type {\n",
       "        vertical-align: middle;\n",
       "    }\n",
       "\n",
       "    .dataframe tbody tr th {\n",
       "        vertical-align: top;\n",
       "    }\n",
       "\n",
       "    .dataframe thead th {\n",
       "        text-align: right;\n",
       "    }\n",
       "</style>\n",
       "<table border=\"1\" class=\"dataframe\">\n",
       "  <thead>\n",
       "    <tr style=\"text-align: right;\">\n",
       "      <th></th>\n",
       "      <th>t-score</th>\n",
       "      <th>r-score</th>\n",
       "      <th>ranking</th>\n",
       "    </tr>\n",
       "    <tr>\n",
       "      <th>pipeline</th>\n",
       "      <th></th>\n",
       "      <th></th>\n",
       "      <th></th>\n",
       "    </tr>\n",
       "  </thead>\n",
       "  <tbody>\n",
       "    <tr>\n",
       "      <th>categorical_encoder/imputer/standard_scaler/xgbclassifier</th>\n",
       "      <td>-0.621158</td>\n",
       "      <td>-0.326516</td>\n",
       "      <td>3.092077</td>\n",
       "    </tr>\n",
       "    <tr>\n",
       "      <th>dfs/categorical_encoder/imputer/standard_scaler/xgbclassifier</th>\n",
       "      <td>-0.346183</td>\n",
       "      <td>-0.241319</td>\n",
       "      <td>4.481799</td>\n",
       "    </tr>\n",
       "    <tr>\n",
       "      <th>categorical_encoder/imputer/standard_scaler/random_forest_classifier</th>\n",
       "      <td>0.159058</td>\n",
       "      <td>-0.033411</td>\n",
       "      <td>5.944444</td>\n",
       "    </tr>\n",
       "    <tr>\n",
       "      <th>dfs/categorical_encoder/imputer/standard_scaler/random_forest_classifier</th>\n",
       "      <td>0.806322</td>\n",
       "      <td>0.183387</td>\n",
       "      <td>7.508547</td>\n",
       "    </tr>\n",
       "  </tbody>\n",
       "</table>\n",
       "</div>"
      ],
      "text/plain": [
       "                                                     t-score   r-score  \\\n",
       "pipeline                                                                 \n",
       "categorical_encoder/imputer/standard_scaler/xgb... -0.621158 -0.326516   \n",
       "dfs/categorical_encoder/imputer/standard_scaler... -0.346183 -0.241319   \n",
       "categorical_encoder/imputer/standard_scaler/ran...  0.159058 -0.033411   \n",
       "dfs/categorical_encoder/imputer/standard_scaler...  0.806322  0.183387   \n",
       "\n",
       "                                                     ranking  \n",
       "pipeline                                                      \n",
       "categorical_encoder/imputer/standard_scaler/xgb...  3.092077  \n",
       "dfs/categorical_encoder/imputer/standard_scaler...  4.481799  \n",
       "categorical_encoder/imputer/standard_scaler/ran...  5.944444  \n",
       "dfs/categorical_encoder/imputer/standard_scaler...  7.508547  "
      ]
     },
     "execution_count": 9,
     "metadata": {},
     "output_type": "execute_result"
    }
   ],
   "source": [
    "rank_pipelines(second_half)"
   ]
  }
 ],
 "metadata": {
  "kernelspec": {
   "display_name": "Python 3",
   "language": "python",
   "name": "python3"
  },
  "language_info": {
   "codemirror_mode": {
    "name": "ipython",
    "version": 3
   },
   "file_extension": ".py",
   "mimetype": "text/x-python",
   "name": "python",
   "nbconvert_exporter": "python",
   "pygments_lexer": "ipython3",
   "version": "3.6.6"
  }
 },
 "nbformat": 4,
 "nbformat_minor": 2
}
