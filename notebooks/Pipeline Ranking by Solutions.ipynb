{
 "cells": [
  {
   "cell_type": "code",
   "execution_count": 1,
   "metadata": {},
   "outputs": [],
   "source": [
    "import pandas as pd\n",
    "from piex import explorer"
   ]
  },
  {
   "cell_type": "code",
   "execution_count": 2,
   "metadata": {},
   "outputs": [],
   "source": [
    "piex = explorer.PipelineExplorer('ml-pipelines-2018')"
   ]
  },
  {
   "cell_type": "code",
   "execution_count": 3,
   "metadata": {},
   "outputs": [],
   "source": [
    "df = piex.get_pipelines(data_modality='single_table', task_type='classification')"
   ]
  },
  {
   "cell_type": "code",
   "execution_count": 4,
   "metadata": {},
   "outputs": [],
   "source": [
    "def get_scores(df):\n",
    "    stats = df.groupby('dataset')['rank'].agg(['mean', 'std', 'min', 'max'])\n",
    "    stats['range'] = stats['max'] - stats['min']\n",
    "    stats['midpoint'] = stats['min'] + stats['range'] / 2\n",
    "    \n",
    "    df = df.merge(stats, how='left', on='dataset')\n",
    "    df['t-score'] = (df['rank'] - df['mean']) / df['std']\n",
    "    df['r-score'] = (df['rank'] - df['midpoint']) / df['range']\n",
    "    df['ranking'] = df.groupby('dataset')['rank'].rank(method='dense')\n",
    "    \n",
    "    return df\n",
    "\n",
    "scores = get_scores(df)"
   ]
  },
  {
   "cell_type": "code",
   "execution_count": 5,
   "metadata": {},
   "outputs": [],
   "source": [
    "def rank_pipelines(df, metric='t-score'):\n",
    "    scores = get_scores(df)\n",
    "    pipeline_scores = scores.groupby('pipeline')[['t-score', 'r-score', 'ranking']].mean()\n",
    "    return pipeline_scores.sort_values(metric)"
   ]
  },
  {
   "cell_type": "code",
   "execution_count": 6,
   "metadata": {},
   "outputs": [
    {
     "data": {
      "text/html": [
       "<div>\n",
       "<style scoped>\n",
       "    .dataframe tbody tr th:only-of-type {\n",
       "        vertical-align: middle;\n",
       "    }\n",
       "\n",
       "    .dataframe tbody tr th {\n",
       "        vertical-align: top;\n",
       "    }\n",
       "\n",
       "    .dataframe thead th {\n",
       "        text-align: right;\n",
       "    }\n",
       "</style>\n",
       "<table border=\"1\" class=\"dataframe\">\n",
       "  <thead>\n",
       "    <tr style=\"text-align: right;\">\n",
       "      <th></th>\n",
       "      <th>t-score</th>\n",
       "      <th>r-score</th>\n",
       "      <th>ranking</th>\n",
       "    </tr>\n",
       "    <tr>\n",
       "      <th>pipeline</th>\n",
       "      <th></th>\n",
       "      <th></th>\n",
       "      <th></th>\n",
       "    </tr>\n",
       "  </thead>\n",
       "  <tbody>\n",
       "    <tr>\n",
       "      <th>categorical_encoder/imputer/standard_scaler/xgbclassifier</th>\n",
       "      <td>-0.591566</td>\n",
       "      <td>-0.401695</td>\n",
       "      <td>2116.436421</td>\n",
       "    </tr>\n",
       "    <tr>\n",
       "      <th>dfs/categorical_encoder/imputer/standard_scaler/xgbclassifier</th>\n",
       "      <td>-0.582055</td>\n",
       "      <td>-0.387389</td>\n",
       "      <td>2317.254773</td>\n",
       "    </tr>\n",
       "    <tr>\n",
       "      <th>categorical_encoder/imputer/standard_scaler/random_forest_classifier</th>\n",
       "      <td>0.649732</td>\n",
       "      <td>-0.010138</td>\n",
       "      <td>3899.292544</td>\n",
       "    </tr>\n",
       "    <tr>\n",
       "      <th>dfs/categorical_encoder/imputer/standard_scaler/random_forest_classifier</th>\n",
       "      <td>0.752098</td>\n",
       "      <td>0.016891</td>\n",
       "      <td>4134.603802</td>\n",
       "    </tr>\n",
       "    <tr>\n",
       "      <th>trivial.mode</th>\n",
       "      <td>1.449710</td>\n",
       "      <td>0.254141</td>\n",
       "      <td>4125.979701</td>\n",
       "    </tr>\n",
       "  </tbody>\n",
       "</table>\n",
       "</div>"
      ],
      "text/plain": [
       "                                                     t-score   r-score  \\\n",
       "pipeline                                                                 \n",
       "categorical_encoder/imputer/standard_scaler/xgb... -0.591566 -0.401695   \n",
       "dfs/categorical_encoder/imputer/standard_scaler... -0.582055 -0.387389   \n",
       "categorical_encoder/imputer/standard_scaler/ran...  0.649732 -0.010138   \n",
       "dfs/categorical_encoder/imputer/standard_scaler...  0.752098  0.016891   \n",
       "trivial.mode                                        1.449710  0.254141   \n",
       "\n",
       "                                                        ranking  \n",
       "pipeline                                                         \n",
       "categorical_encoder/imputer/standard_scaler/xgb...  2116.436421  \n",
       "dfs/categorical_encoder/imputer/standard_scaler...  2317.254773  \n",
       "categorical_encoder/imputer/standard_scaler/ran...  3899.292544  \n",
       "dfs/categorical_encoder/imputer/standard_scaler...  4134.603802  \n",
       "trivial.mode                                        4125.979701  "
      ]
     },
     "execution_count": 6,
     "metadata": {},
     "output_type": "execute_result"
    }
   ],
   "source": [
    "rank_pipelines(df)"
   ]
  },
  {
   "cell_type": "code",
   "execution_count": 7,
   "metadata": {
    "scrolled": true
   },
   "outputs": [],
   "source": [
    "def split_datasets(df):\n",
    "    datasets = pd.Series(df.dataset.unique())\n",
    "    datasets = datasets.sample(len(datasets))\n",
    "    half = int(len(datasets) / 2)\n",
    "    \n",
    "    first_half = df[df.dataset.isin(datasets[:half])]\n",
    "    second_half = df[df.dataset.isin(datasets[half:])]\n",
    "    \n",
    "    return first_half, second_half\n",
    "\n",
    "first_half, second_half = split_datasets(df)"
   ]
  },
  {
   "cell_type": "code",
   "execution_count": 8,
   "metadata": {},
   "outputs": [
    {
     "data": {
      "text/html": [
       "<div>\n",
       "<style scoped>\n",
       "    .dataframe tbody tr th:only-of-type {\n",
       "        vertical-align: middle;\n",
       "    }\n",
       "\n",
       "    .dataframe tbody tr th {\n",
       "        vertical-align: top;\n",
       "    }\n",
       "\n",
       "    .dataframe thead th {\n",
       "        text-align: right;\n",
       "    }\n",
       "</style>\n",
       "<table border=\"1\" class=\"dataframe\">\n",
       "  <thead>\n",
       "    <tr style=\"text-align: right;\">\n",
       "      <th></th>\n",
       "      <th>t-score</th>\n",
       "      <th>r-score</th>\n",
       "      <th>ranking</th>\n",
       "    </tr>\n",
       "    <tr>\n",
       "      <th>pipeline</th>\n",
       "      <th></th>\n",
       "      <th></th>\n",
       "      <th></th>\n",
       "    </tr>\n",
       "  </thead>\n",
       "  <tbody>\n",
       "    <tr>\n",
       "      <th>dfs/categorical_encoder/imputer/standard_scaler/xgbclassifier</th>\n",
       "      <td>-0.602553</td>\n",
       "      <td>-0.405301</td>\n",
       "      <td>2261.893139</td>\n",
       "    </tr>\n",
       "    <tr>\n",
       "      <th>categorical_encoder/imputer/standard_scaler/xgbclassifier</th>\n",
       "      <td>-0.586371</td>\n",
       "      <td>-0.414857</td>\n",
       "      <td>2066.091206</td>\n",
       "    </tr>\n",
       "    <tr>\n",
       "      <th>categorical_encoder/imputer/standard_scaler/random_forest_classifier</th>\n",
       "      <td>0.657787</td>\n",
       "      <td>-0.013661</td>\n",
       "      <td>3878.995681</td>\n",
       "    </tr>\n",
       "    <tr>\n",
       "      <th>dfs/categorical_encoder/imputer/standard_scaler/random_forest_classifier</th>\n",
       "      <td>0.776937</td>\n",
       "      <td>0.017640</td>\n",
       "      <td>3991.294521</td>\n",
       "    </tr>\n",
       "    <tr>\n",
       "      <th>trivial.mode</th>\n",
       "      <td>1.488414</td>\n",
       "      <td>0.267669</td>\n",
       "      <td>4005.091880</td>\n",
       "    </tr>\n",
       "  </tbody>\n",
       "</table>\n",
       "</div>"
      ],
      "text/plain": [
       "                                                     t-score   r-score  \\\n",
       "pipeline                                                                 \n",
       "dfs/categorical_encoder/imputer/standard_scaler... -0.602553 -0.405301   \n",
       "categorical_encoder/imputer/standard_scaler/xgb... -0.586371 -0.414857   \n",
       "categorical_encoder/imputer/standard_scaler/ran...  0.657787 -0.013661   \n",
       "dfs/categorical_encoder/imputer/standard_scaler...  0.776937  0.017640   \n",
       "trivial.mode                                        1.488414  0.267669   \n",
       "\n",
       "                                                        ranking  \n",
       "pipeline                                                         \n",
       "dfs/categorical_encoder/imputer/standard_scaler...  2261.893139  \n",
       "categorical_encoder/imputer/standard_scaler/xgb...  2066.091206  \n",
       "categorical_encoder/imputer/standard_scaler/ran...  3878.995681  \n",
       "dfs/categorical_encoder/imputer/standard_scaler...  3991.294521  \n",
       "trivial.mode                                        4005.091880  "
      ]
     },
     "execution_count": 8,
     "metadata": {},
     "output_type": "execute_result"
    }
   ],
   "source": [
    "rank_pipelines(first_half)"
   ]
  },
  {
   "cell_type": "code",
   "execution_count": 9,
   "metadata": {},
   "outputs": [
    {
     "data": {
      "text/html": [
       "<div>\n",
       "<style scoped>\n",
       "    .dataframe tbody tr th:only-of-type {\n",
       "        vertical-align: middle;\n",
       "    }\n",
       "\n",
       "    .dataframe tbody tr th {\n",
       "        vertical-align: top;\n",
       "    }\n",
       "\n",
       "    .dataframe thead th {\n",
       "        text-align: right;\n",
       "    }\n",
       "</style>\n",
       "<table border=\"1\" class=\"dataframe\">\n",
       "  <thead>\n",
       "    <tr style=\"text-align: right;\">\n",
       "      <th></th>\n",
       "      <th>t-score</th>\n",
       "      <th>r-score</th>\n",
       "      <th>ranking</th>\n",
       "    </tr>\n",
       "    <tr>\n",
       "      <th>pipeline</th>\n",
       "      <th></th>\n",
       "      <th></th>\n",
       "      <th></th>\n",
       "    </tr>\n",
       "  </thead>\n",
       "  <tbody>\n",
       "    <tr>\n",
       "      <th>categorical_encoder/imputer/standard_scaler/xgbclassifier</th>\n",
       "      <td>-0.596554</td>\n",
       "      <td>-0.389060</td>\n",
       "      <td>2164.768958</td>\n",
       "    </tr>\n",
       "    <tr>\n",
       "      <th>dfs/categorical_encoder/imputer/standard_scaler/xgbclassifier</th>\n",
       "      <td>-0.563074</td>\n",
       "      <td>-0.370802</td>\n",
       "      <td>2368.518964</td>\n",
       "    </tr>\n",
       "    <tr>\n",
       "      <th>categorical_encoder/imputer/standard_scaler/random_forest_classifier</th>\n",
       "      <td>0.642178</td>\n",
       "      <td>-0.006835</td>\n",
       "      <td>3918.324307</td>\n",
       "    </tr>\n",
       "    <tr>\n",
       "      <th>dfs/categorical_encoder/imputer/standard_scaler/random_forest_classifier</th>\n",
       "      <td>0.730540</td>\n",
       "      <td>0.016241</td>\n",
       "      <td>4258.981571</td>\n",
       "    </tr>\n",
       "    <tr>\n",
       "      <th>trivial.mode</th>\n",
       "      <td>1.411006</td>\n",
       "      <td>0.240614</td>\n",
       "      <td>4246.867521</td>\n",
       "    </tr>\n",
       "  </tbody>\n",
       "</table>\n",
       "</div>"
      ],
      "text/plain": [
       "                                                     t-score   r-score  \\\n",
       "pipeline                                                                 \n",
       "categorical_encoder/imputer/standard_scaler/xgb... -0.596554 -0.389060   \n",
       "dfs/categorical_encoder/imputer/standard_scaler... -0.563074 -0.370802   \n",
       "categorical_encoder/imputer/standard_scaler/ran...  0.642178 -0.006835   \n",
       "dfs/categorical_encoder/imputer/standard_scaler...  0.730540  0.016241   \n",
       "trivial.mode                                        1.411006  0.240614   \n",
       "\n",
       "                                                        ranking  \n",
       "pipeline                                                         \n",
       "categorical_encoder/imputer/standard_scaler/xgb...  2164.768958  \n",
       "dfs/categorical_encoder/imputer/standard_scaler...  2368.518964  \n",
       "categorical_encoder/imputer/standard_scaler/ran...  3918.324307  \n",
       "dfs/categorical_encoder/imputer/standard_scaler...  4258.981571  \n",
       "trivial.mode                                        4246.867521  "
      ]
     },
     "execution_count": 9,
     "metadata": {},
     "output_type": "execute_result"
    }
   ],
   "source": [
    "rank_pipelines(second_half)"
   ]
  }
 ],
 "metadata": {
  "kernelspec": {
   "display_name": "Python 3",
   "language": "python",
   "name": "python3"
  },
  "language_info": {
   "codemirror_mode": {
    "name": "ipython",
    "version": 3
   },
   "file_extension": ".py",
   "mimetype": "text/x-python",
   "name": "python",
   "nbconvert_exporter": "python",
   "pygments_lexer": "ipython3",
   "version": "3.6.6"
  }
 },
 "nbformat": 4,
 "nbformat_minor": 2
}
