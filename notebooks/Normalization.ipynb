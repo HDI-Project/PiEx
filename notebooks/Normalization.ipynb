{
 "cells": [
  {
   "cell_type": "markdown",
   "metadata": {},
   "source": [
    "$\\begin{align*}\n",
    "\\displaystyle\n",
    "\\text{If } mr_{j} = [0,1]s &\\text{ then } t_{ij} = s_{ij} \\\\\n",
    "\\text{If } mr_{j} = (0,1)s &\\text{ then } t_{ij} = s_{ij} \\\\\n",
    "\\text{If } mr_{j} = [0,1]c &\\text{ then } t_{ij} = 1 - s_{ij} \\\\\n",
    "\\text{If } mr_{j} = [-3,7]s &\\text{ then } t_{ij} = \\frac{s_{ij} + 3}{10} \\\\\n",
    "\\text{If } mr_{j} = (-\\infty,\\infty)s &\\text{ then } t_{ij} = \\frac{1}{1+e^{-s_{ij}}} \\\\\n",
    "\\text{If } mr_{j} = (-\\infty,\\infty)c &\\text{ then } t_{ij} = 1 - \\frac{1}{1+e^{-s_{ij}}} \\\\\n",
    "\\text{If } mr_{j} = [0,\\infty)s &\\text{ then } t_{ij} = \\frac{2}{1+e^{-s_{ij}}} - 1 \\\\\n",
    "\\text{If } mr_{j} = [0,\\infty)c &\\text{ then } t_{ij} = 2 - \\frac{2}{1+e^{-s_{ij}}} \\\\\n",
    "\\end{align*}$"
   ]
  },
  {
   "cell_type": "code",
   "execution_count": 70,
   "metadata": {},
   "outputs": [],
   "source": [
    "import numpy as np\n",
    "\n",
    "def normalize(raw, metric_type, min_value=None, max_value=None):\n",
    "    if metric_type == 'zero_one_score':\n",
    "        return raw\n",
    "    elif metric_type == 'zero_one_cost':\n",
    "        return 1 - raw\n",
    "    elif metric_type == 'ranged_score':\n",
    "        return (raw - min_value) / (max_value - min_value)\n",
    "    elif metric_type == 'real_score':\n",
    "        return 1 / (1 + np.exp(-raw))\n",
    "    elif metric_type == 'real_cost':\n",
    "        return 1 - (1 / (1 + np.exp(-raw)))\n",
    "    elif metric_type == 'zero_inf_score':\n",
    "        return 1 / (1 + np.exp(-np.log10(raw)))\n",
    "    elif metric_type == 'zero_inf_cost':\n",
    "        return 1 - (1 / (1 + np.exp(-np.log10(raw))))\n",
    "    else:\n",
    "        raise ValueError('Unknown metric type')"
   ]
  },
  {
   "cell_type": "code",
   "execution_count": 77,
   "metadata": {},
   "outputs": [
    {
     "data": {
      "text/plain": [
       "0.002472623156634657"
      ]
     },
     "execution_count": 77,
     "metadata": {},
     "output_type": "execute_result"
    }
   ],
   "source": [
    "normalize(1000000, 'zero_inf_cost')"
   ]
  }
 ],
 "metadata": {
  "kernelspec": {
   "display_name": "Python 3",
   "language": "python",
   "name": "python3"
  },
  "language_info": {
   "codemirror_mode": {
    "name": "ipython",
    "version": 3
   },
   "file_extension": ".py",
   "mimetype": "text/x-python",
   "name": "python",
   "nbconvert_exporter": "python",
   "pygments_lexer": "ipython3",
   "version": "3.6.6"
  }
 },
 "nbformat": 4,
 "nbformat_minor": 2
}
