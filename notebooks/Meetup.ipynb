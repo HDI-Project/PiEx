{
 "cells": [
  {
   "cell_type": "code",
   "execution_count": 2,
   "metadata": {
    "slideshow": {
     "slide_type": "notes"
    }
   },
   "outputs": [
    {
     "data": {
      "text/html": [
       "<style>\n",
       "\n",
       ".rendered_html {\n",
       "  font-size:0.8em;\n",
       "}\n",
       ".rendered_html table, .rendered_html th, .rendered_html tr, .rendered_html td {\n",
       "     font-size: 100%;\n",
       "}\n",
       "\n",
       "</style>\n"
      ],
      "text/plain": [
       "<IPython.core.display.HTML object>"
      ]
     },
     "metadata": {},
     "output_type": "display_data"
    }
   ],
   "source": [
    "%%HTML\n",
    "<style>\n",
    "\n",
    ".rendered_html {\n",
    "  font-size:0.8em;\n",
    "}\n",
    ".rendered_html table, .rendered_html th, .rendered_html tr, .rendered_html td {\n",
    "     font-size: 100%;\n",
    "}\n",
    "\n",
    "</style>"
   ]
  },
  {
   "cell_type": "code",
   "execution_count": 3,
   "metadata": {
    "slideshow": {
     "slide_type": "notes"
    }
   },
   "outputs": [
    {
     "name": "stderr",
     "output_type": "stream",
     "text": [
      "Using TensorFlow backend.\n"
     ]
    }
   ],
   "source": [
    "import pandas as pd\n",
    "from piex import explorer\n",
    "from mit_d3m.db import get_db\n",
    "\n",
    "db = get_db(config='../mongodb_config.json')"
   ]
  },
  {
   "cell_type": "code",
   "execution_count": 4,
   "metadata": {
    "slideshow": {
     "slide_type": "notes"
    }
   },
   "outputs": [],
   "source": [
    "datasets = list(db.datasets.find({}, {'_id': 0}))\n",
    "\n",
    "ddf = pd.DataFrame(datasets)"
   ]
  },
  {
   "cell_type": "markdown",
   "metadata": {
    "slideshow": {
     "slide_type": "slide"
    }
   },
   "source": [
    "# Datasets Collection\n",
    "\n",
    "* 453 Datasets\n",
    "* 6 Data Modalities\n",
    "* 18 Data Modality / Task Type Combinations"
   ]
  },
  {
   "cell_type": "code",
   "execution_count": 5,
   "metadata": {
    "slideshow": {
     "slide_type": "subslide"
    }
   },
   "outputs": [
    {
     "data": {
      "text/html": [
       "<div>\n",
       "<style scoped>\n",
       "    .dataframe tbody tr th:only-of-type {\n",
       "        vertical-align: middle;\n",
       "    }\n",
       "\n",
       "    .dataframe tbody tr th {\n",
       "        vertical-align: top;\n",
       "    }\n",
       "\n",
       "    .dataframe thead th {\n",
       "        text-align: right;\n",
       "    }\n",
       "</style>\n",
       "<table border=\"1\" class=\"dataframe\">\n",
       "  <thead>\n",
       "    <tr style=\"text-align: right;\">\n",
       "      <th></th>\n",
       "      <th>count</th>\n",
       "    </tr>\n",
       "    <tr>\n",
       "      <th>data_modality</th>\n",
       "      <th></th>\n",
       "    </tr>\n",
       "  </thead>\n",
       "  <tbody>\n",
       "    <tr>\n",
       "      <th>single_table</th>\n",
       "      <td>368</td>\n",
       "    </tr>\n",
       "    <tr>\n",
       "      <th>timeseries</th>\n",
       "      <td>37</td>\n",
       "    </tr>\n",
       "    <tr>\n",
       "      <th>text</th>\n",
       "      <td>17</td>\n",
       "    </tr>\n",
       "    <tr>\n",
       "      <th>graph</th>\n",
       "      <td>17</td>\n",
       "    </tr>\n",
       "    <tr>\n",
       "      <th>image</th>\n",
       "      <td>10</td>\n",
       "    </tr>\n",
       "    <tr>\n",
       "      <th>multi_table</th>\n",
       "      <td>3</td>\n",
       "    </tr>\n",
       "    <tr>\n",
       "      <th>audio</th>\n",
       "      <td>1</td>\n",
       "    </tr>\n",
       "  </tbody>\n",
       "</table>\n",
       "</div>"
      ],
      "text/plain": [
       "               count\n",
       "data_modality       \n",
       "single_table     368\n",
       "timeseries        37\n",
       "text              17\n",
       "graph             17\n",
       "image             10\n",
       "multi_table        3\n",
       "audio              1"
      ]
     },
     "execution_count": 5,
     "metadata": {},
     "output_type": "execute_result"
    }
   ],
   "source": [
    "pd.DataFrame(\n",
    "    ddf.groupby('data_modality').size().sort_values(ascending=False),\n",
    "    columns=['count']\n",
    ")"
   ]
  },
  {
   "cell_type": "code",
   "execution_count": 6,
   "metadata": {
    "slideshow": {
     "slide_type": "subslide"
    }
   },
   "outputs": [
    {
     "data": {
      "text/html": [
       "<div>\n",
       "<style scoped>\n",
       "    .dataframe tbody tr th:only-of-type {\n",
       "        vertical-align: middle;\n",
       "    }\n",
       "\n",
       "    .dataframe tbody tr th {\n",
       "        vertical-align: top;\n",
       "    }\n",
       "\n",
       "    .dataframe thead th {\n",
       "        text-align: right;\n",
       "    }\n",
       "</style>\n",
       "<table border=\"1\" class=\"dataframe\">\n",
       "  <thead>\n",
       "    <tr style=\"text-align: right;\">\n",
       "      <th></th>\n",
       "      <th></th>\n",
       "      <th>count</th>\n",
       "    </tr>\n",
       "    <tr>\n",
       "      <th>data_modality</th>\n",
       "      <th>task_type</th>\n",
       "      <th></th>\n",
       "    </tr>\n",
       "  </thead>\n",
       "  <tbody>\n",
       "    <tr>\n",
       "      <th>audio</th>\n",
       "      <th>classification</th>\n",
       "      <td>1</td>\n",
       "    </tr>\n",
       "    <tr>\n",
       "      <th rowspan=\"4\" valign=\"top\">graph</th>\n",
       "      <th>community_detection</th>\n",
       "      <td>5</td>\n",
       "    </tr>\n",
       "    <tr>\n",
       "      <th>graph_matching</th>\n",
       "      <td>9</td>\n",
       "    </tr>\n",
       "    <tr>\n",
       "      <th>link_prediction</th>\n",
       "      <td>1</td>\n",
       "    </tr>\n",
       "    <tr>\n",
       "      <th>vertex_nomination</th>\n",
       "      <td>2</td>\n",
       "    </tr>\n",
       "    <tr>\n",
       "      <th rowspan=\"3\" valign=\"top\">image</th>\n",
       "      <th>classification</th>\n",
       "      <td>8</td>\n",
       "    </tr>\n",
       "    <tr>\n",
       "      <th>object_detection</th>\n",
       "      <td>1</td>\n",
       "    </tr>\n",
       "    <tr>\n",
       "      <th>regression</th>\n",
       "      <td>1</td>\n",
       "    </tr>\n",
       "    <tr>\n",
       "      <th rowspan=\"2\" valign=\"top\">multi_table</th>\n",
       "      <th>classification</th>\n",
       "      <td>1</td>\n",
       "    </tr>\n",
       "    <tr>\n",
       "      <th>regression</th>\n",
       "      <td>2</td>\n",
       "    </tr>\n",
       "    <tr>\n",
       "      <th rowspan=\"6\" valign=\"top\">single_table</th>\n",
       "      <th>classification</th>\n",
       "      <td>239</td>\n",
       "    </tr>\n",
       "    <tr>\n",
       "      <th>clustering</th>\n",
       "      <td>1</td>\n",
       "    </tr>\n",
       "    <tr>\n",
       "      <th>collaborative_filtering</th>\n",
       "      <td>1</td>\n",
       "    </tr>\n",
       "    <tr>\n",
       "      <th>link_prediction</th>\n",
       "      <td>5</td>\n",
       "    </tr>\n",
       "    <tr>\n",
       "      <th>regression</th>\n",
       "      <td>87</td>\n",
       "    </tr>\n",
       "    <tr>\n",
       "      <th>time_series_forecasting</th>\n",
       "      <td>35</td>\n",
       "    </tr>\n",
       "    <tr>\n",
       "      <th>text</th>\n",
       "      <th>classification</th>\n",
       "      <td>17</td>\n",
       "    </tr>\n",
       "    <tr>\n",
       "      <th>timeseries</th>\n",
       "      <th>classification</th>\n",
       "      <td>37</td>\n",
       "    </tr>\n",
       "  </tbody>\n",
       "</table>\n",
       "</div>"
      ],
      "text/plain": [
       "                                       count\n",
       "data_modality task_type                     \n",
       "audio         classification               1\n",
       "graph         community_detection          5\n",
       "              graph_matching               9\n",
       "              link_prediction              1\n",
       "              vertex_nomination            2\n",
       "image         classification               8\n",
       "              object_detection             1\n",
       "              regression                   1\n",
       "multi_table   classification               1\n",
       "              regression                   2\n",
       "single_table  classification             239\n",
       "              clustering                   1\n",
       "              collaborative_filtering      1\n",
       "              link_prediction              5\n",
       "              regression                  87\n",
       "              time_series_forecasting     35\n",
       "text          classification              17\n",
       "timeseries    classification              37"
      ]
     },
     "execution_count": 6,
     "metadata": {},
     "output_type": "execute_result"
    }
   ],
   "source": [
    "pd.DataFrame(\n",
    "    ddf.groupby(['data_modality', 'task_type']).size(),\n",
    "    columns=['count']\n",
    ")"
   ]
  },
  {
   "cell_type": "markdown",
   "metadata": {
    "slideshow": {
     "slide_type": "slide"
    }
   },
   "source": [
    "# MLBlocks and MLPrimitives"
   ]
  },
  {
   "cell_type": "markdown",
   "metadata": {
    "slideshow": {
     "slide_type": "fragment"
    }
   },
   "source": [
    "* Primitives\n",
    "    * Classes or functions\n",
    "    * Initialization arguments\n",
    "    * Tunable hyperparameters\n",
    "    "
   ]
  },
  {
   "cell_type": "markdown",
   "metadata": {
    "slideshow": {
     "slide_type": "fragment"
    }
   },
   "source": [
    "* Pipelines\n",
    "    * List of Primitivies\n",
    "    * Initialization arguments\n",
    "    * Hyperparameter values\n",
    "    "
   ]
  },
  {
   "cell_type": "markdown",
   "metadata": {
    "slideshow": {
     "slide_type": "fragment"
    }
   },
   "source": [
    "* Templates\n",
    "    * List of Primitives\n",
    "    * Initialization arguments\n",
    "    * Tunable hyperparameter ranges"
   ]
  },
  {
   "cell_type": "markdown",
   "metadata": {
    "slideshow": {
     "slide_type": "slide"
    }
   },
   "source": [
    "# MLBlocks Primitive Example - scikit-learn"
   ]
  },
  {
   "cell_type": "code",
   "execution_count": 7,
   "metadata": {
    "slideshow": {
     "slide_type": "fragment"
    }
   },
   "outputs": [
    {
     "name": "stdout",
     "output_type": "stream",
     "text": [
      "{\n",
      "    \"name\": \"sklearn.preprocessing.StandardScaler\",\n",
      "    \"author\": \"Carles Sala <carles@pythiac.com>\",\n",
      "    \"documentation\": \"http://scikit-learn.org/stable/modules/generated/sklearn.preprocessing.StandardScaler.html\",\n",
      "    \"description\": \"Standardize features by removing the mean and scaling to unit variance\",\n",
      "    \"classifiers\": {\n",
      "        \"type\": \"preprocessor\",\n",
      "        \"subtype\": \"transformer\"\n",
      "    },\n",
      "    \"modalities\": [],\n",
      "    \"primitive\": \"sklearn.preprocessing.StandardScaler\",\n",
      "    \"validation_dataset\": \"wine\",\n",
      "    \"fit\": {\n",
      "        \"method\": \"fit\",\n",
      "        \"args\": [\n",
      "            {\n",
      "                \"name\": \"X\",\n",
      "                \"type\": \"ndarray\"\n",
      "            }\n",
      "        ]\n",
      "    },\n",
      "    \"produce\": {\n",
      "        \"method\": \"transform\",\n",
      "        \"args\": [\n",
      "            {\n",
      "                \"name\": \"X\",\n",
      "                \"type\": \"ndarray\"\n",
      "            }\n",
      "        ],\n",
      "        \"output\": [\n",
      "            {\n",
      "                \"name\": \"X\",\n",
      "                \"type\": \"ndarray\"\n",
      "            }\n",
      "        ]\n",
      "    },\n",
      "    \"hyperparameters\": {\n",
      "        \"fixed\": {},\n",
      "        \"tunable\": {\n",
      "            \"with_mean\": {\n",
      "                \"type\": \"bool\",\n",
      "                \"default\": true\n",
      "            },\n",
      "            \"with_std\": {\n",
      "                \"type\": \"bool\",\n",
      "                \"default\": true\n",
      "            }\n",
      "        }\n",
      "    }\n",
      "}\n"
     ]
    }
   ],
   "source": [
    "import json\n",
    "import mlblocks\n",
    "\n",
    "primitive = mlblocks.load_primitive('sklearn.preprocessing.StandardScaler')\n",
    "print(json.dumps(primitive, indent=4))"
   ]
  },
  {
   "cell_type": "markdown",
   "metadata": {
    "slideshow": {
     "slide_type": "slide"
    }
   },
   "source": [
    "# MLBlocks Primitive Example - Simple Function"
   ]
  },
  {
   "cell_type": "code",
   "execution_count": 8,
   "metadata": {
    "slideshow": {
     "slide_type": "fragment"
    }
   },
   "outputs": [
    {
     "name": "stdout",
     "output_type": "stream",
     "text": [
      "{\n",
      "    \"name\": \"keras.applications.mobilenet.preprocess_input\",\n",
      "    \"author\": \"Carles Sala <carles@pythiac.com>\",\n",
      "    \"documentation\": \"https://www.tensorflow.org/api_docs/python/tf/keras/applications/mobilenet/preprocess_input\",\n",
      "    \"description\": \"Preprocesses a tensor or Numpy array encoding a batch of images.\",\n",
      "    \"classifiers\": {\n",
      "        \"type\": \"preprocessor\",\n",
      "        \"subtype\": \"transformer\"\n",
      "    },\n",
      "    \"modalities\": [\n",
      "        \"image\"\n",
      "    ],\n",
      "    \"primitive\": \"keras.applications.mobilenet.preprocess_input\",\n",
      "    \"produce\": {\n",
      "        \"args\": [\n",
      "            {\n",
      "                \"name\": \"X\",\n",
      "                \"keyword\": \"x\",\n",
      "                \"type\": \"ndarray\"\n",
      "            }\n",
      "        ],\n",
      "        \"output\": [\n",
      "            {\n",
      "                \"name\": \"X\",\n",
      "                \"type\": \"ndarray\"\n",
      "            }\n",
      "        ]\n",
      "    },\n",
      "    \"hyperparameters\": {\n",
      "        \"fixed\": {},\n",
      "        \"tunable\": {}\n",
      "    }\n",
      "}\n"
     ]
    }
   ],
   "source": [
    "primitive = mlblocks.load_primitive('keras.applications.mobilenet.preprocess_input')\n",
    "print(json.dumps(primitive, indent=4))"
   ]
  },
  {
   "cell_type": "markdown",
   "metadata": {
    "slideshow": {
     "slide_type": "slide"
    }
   },
   "source": [
    "# MLBlocks Primitive Example - Full Keras Model"
   ]
  },
  {
   "cell_type": "code",
   "execution_count": 9,
   "metadata": {
    "scrolled": false,
    "slideshow": {
     "slide_type": "fragment"
    }
   },
   "outputs": [
    {
     "name": "stdout",
     "output_type": "stream",
     "text": [
      "{\n",
      "    \"name\": \"keras.Sequential.LSTMTextClassifier\",\n",
      "    \"author\": \"Carles Sala <carles@pythiac.com>\",\n",
      "    \"description\": \"keras.Sequential.LSTMTextClassifier\",\n",
      "    \"classifiers\": {\n",
      "        \"type\": \"estimator\",\n",
      "        \"subtype\": \"regressor\"\n",
      "    },\n",
      "    \"modalities\": [\n",
      "        \"text\"\n",
      "    ],\n",
      "    \"primitive\": \"mlprimitives.adapters.keras.Sequential\",\n",
      "    \"fit\": {\n",
      "        \"method\": \"fit\",\n",
      "        \"args\": [\n",
      "            {\n",
      "                \"name\": \"X\",\n",
      "                \"type\": \"ndarray\"\n",
      "            },\n",
      "            {\n",
      "                \"name\": \"y\",\n",
      "                \"type\": \"array\"\n",
      "            },\n",
      "            {\n",
      "                \"name\": \"classes\",\n",
      "                \"type\": \"int\",\n",
      "                \"description\": \"Number of classes\"\n",
      "            },\n",
      "            {\n",
      "                \"name\": \"vocabulary_size\",\n",
      "                \"type\": \"int\",\n",
      "                \"description\": \"vocabulary size + 1: number of known words in input.\"\n",
      "            }\n",
      "        ]\n",
      "    },\n",
      "    \"produce\": {\n",
      "        \"method\": \"predict\",\n",
      "        \"args\": [\n",
      "            {\n",
      "                \"name\": \"X\",\n",
      "                \"type\": \"ndarray\"\n",
      "            }\n",
      "        ],\n",
      "        \"output\": [\n",
      "            {\n",
      "                \"name\": \"y\",\n",
      "                \"type\": \"array\"\n",
      "            }\n",
      "        ]\n",
      "    },\n",
      "    \"hyperparameters\": {\n",
      "        \"fixed\": {\n",
      "            \"input_length\": {\n",
      "                \"type\": \"int\"\n",
      "            },\n",
      "            \"classification\": {\n",
      "                \"type\": \"bool\",\n",
      "                \"default\": true\n",
      "            },\n",
      "            \"conv_activation\": {\n",
      "                \"type\": \"str\",\n",
      "                \"default\": \"relu\"\n",
      "            },\n",
      "            \"dense_activation\": {\n",
      "                \"type\": \"str\",\n",
      "                \"default\": \"softmax\"\n",
      "            },\n",
      "            \"optimizer\": {\n",
      "                \"type\": \"str\",\n",
      "                \"default\": \"keras.optimizers.Adadelta\"\n",
      "            },\n",
      "            \"loss\": {\n",
      "                \"type\": \"str\",\n",
      "                \"default\": \"keras.losses.categorical_crossentropy\"\n",
      "            },\n",
      "            \"metrics\": {\n",
      "                \"type\": \"list\",\n",
      "                \"default\": [\n",
      "                    \"accuracy\"\n",
      "                ]\n",
      "            },\n",
      "            \"epochs\": {\n",
      "                \"type\": \"int\",\n",
      "                \"default\": 10\n",
      "            },\n",
      "            \"layers\": {\n",
      "                \"type\": \"list\",\n",
      "                \"default\": [\n",
      "                    {\n",
      "                        \"class\": \"keras.layers.Embedding\",\n",
      "                        \"parameters\": {\n",
      "                            \"input_dim\": \"vocabulary_size\",\n",
      "                            \"output_dim\": \"embedding_output_dim\",\n",
      "                            \"input_length\": \"input_length\"\n",
      "                        }\n",
      "                    },\n",
      "                    {\n",
      "                        \"class\": \"keras.layers.Dropout\",\n",
      "                        \"parameters\": {\n",
      "                            \"rate\": \"dropout_rate\"\n",
      "                        }\n",
      "                    },\n",
      "                    {\n",
      "                        \"class\": \"keras.layers.Conv1D\",\n",
      "                        \"parameters\": {\n",
      "                            \"filters\": \"embedding_output_dim\",\n",
      "                            \"kernel_size\": \"conv_kernel_size\",\n",
      "                            \"activation\": \"conv_activation\"\n",
      "                        }\n",
      "                    },\n",
      "                    {\n",
      "                        \"class\": \"keras.layers.MaxPooling1D\",\n",
      "                        \"parameters\": {\n",
      "                            \"pool_size\": \"max_pooling_pool_size\"\n",
      "                        }\n",
      "                    },\n",
      "                    {\n",
      "                        \"class\": \"keras.layers.LSTM\",\n",
      "                        \"parameters\": {\n",
      "                            \"units\": \"embedding_output_dim\"\n",
      "                        }\n",
      "                    },\n",
      "                    {\n",
      "                        \"class\": \"keras.layers.Dense\",\n",
      "                        \"parameters\": {\n",
      "                            \"units\": \"classes\",\n",
      "                            \"activation\": \"dense_activation\"\n",
      "                        }\n",
      "                    }\n",
      "                ]\n",
      "            }\n",
      "        },\n",
      "        \"tunable\": {\n",
      "            \"embedding_output_dim\": {\n",
      "                \"type\": \"int\",\n",
      "                \"default\": 100,\n",
      "                \"range\": [\n",
      "                    100,\n",
      "                    500\n",
      "                ]\n",
      "            },\n",
      "            \"dropout_rate\": {\n",
      "                \"type\": \"float\",\n",
      "                \"default\": 0.1,\n",
      "                \"range\": [\n",
      "                    0.1,\n",
      "                    0.75\n",
      "                ]\n",
      "            },\n",
      "            \"conv_kernel_size\": {\n",
      "                \"type\": \"int\",\n",
      "                \"default\": 3,\n",
      "                \"range\": [\n",
      "                    3,\n",
      "                    10\n",
      "                ]\n",
      "            },\n",
      "            \"max_pooling_pool_size\": {\n",
      "                \"type\": \"int\",\n",
      "                \"default\": 2,\n",
      "                \"range\": [\n",
      "                    2,\n",
      "                    10\n",
      "                ]\n",
      "            }\n",
      "        }\n",
      "    }\n",
      "}\n"
     ]
    }
   ],
   "source": [
    "primitive = mlblocks.load_primitive('keras.Sequential.LSTMTextClassifier')\n",
    "print(json.dumps(primitive, indent=4))"
   ]
  }
 ],
 "metadata": {
  "celltoolbar": "Slideshow",
  "kernelspec": {
   "display_name": "Python 3",
   "language": "python",
   "name": "python3"
  },
  "language_info": {
   "codemirror_mode": {
    "name": "ipython",
    "version": 3
   },
   "file_extension": ".py",
   "mimetype": "text/x-python",
   "name": "python",
   "nbconvert_exporter": "python",
   "pygments_lexer": "ipython3",
   "version": "3.6.6"
  }
 },
 "nbformat": 4,
 "nbformat_minor": 2
}
