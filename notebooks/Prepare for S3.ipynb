{
 "cells": [
  {
   "cell_type": "code",
   "execution_count": 36,
   "metadata": {},
   "outputs": [],
   "source": [
    "import pandas as pd\n",
    "\n",
    "from mit_d3m.db import get_db\n",
    "from mit_d3m.utils import restore_dots\n",
    "\n",
    "db = get_db('ta2')"
   ]
  },
  {
   "cell_type": "code",
   "execution_count": 53,
   "metadata": {},
   "outputs": [],
   "source": [
    "from piex.explorer import S3PipelineExplorer, MongoPipelineExplorer\n",
    "\n",
    "piex = S3PipelineExplorer('ml-pipelines-2018')\n",
    "dbex = MongoPipelineExplorer(db)"
   ]
  },
  {
   "cell_type": "code",
   "execution_count": 55,
   "metadata": {},
   "outputs": [],
   "source": [
    "sdf2 = dbex.get_pipelines()"
   ]
  },
  {
   "cell_type": "code",
   "execution_count": 56,
   "metadata": {},
   "outputs": [
    {
     "data": {
      "text/plain": [
       "(2115907, 11)"
      ]
     },
     "execution_count": 56,
     "metadata": {},
     "output_type": "execute_result"
    }
   ],
   "source": [
    "sdf2.shape"
   ]
  },
  {
   "cell_type": "code",
   "execution_count": 57,
   "metadata": {},
   "outputs": [
    {
     "data": {
      "text/html": [
       "<div>\n",
       "<style scoped>\n",
       "    .dataframe tbody tr th:only-of-type {\n",
       "        vertical-align: middle;\n",
       "    }\n",
       "\n",
       "    .dataframe tbody tr th {\n",
       "        vertical-align: top;\n",
       "    }\n",
       "\n",
       "    .dataframe thead th {\n",
       "        text-align: right;\n",
       "    }\n",
       "</style>\n",
       "<table border=\"1\" class=\"dataframe\">\n",
       "  <thead>\n",
       "    <tr style=\"text-align: right;\">\n",
       "      <th></th>\n",
       "      <th>0</th>\n",
       "      <th>1</th>\n",
       "      <th>2</th>\n",
       "      <th>3</th>\n",
       "      <th>4</th>\n",
       "    </tr>\n",
       "  </thead>\n",
       "  <tbody>\n",
       "    <tr>\n",
       "      <th>_id</th>\n",
       "      <td>032daa76-954d-44b8-b925-68749386dc66</td>\n",
       "      <td>a65840c8-b455-4190-9eb8-1ab6727dfd2a</td>\n",
       "      <td>b28fc76a-56fa-4eb8-9fcb-8a9b6665c3fc</td>\n",
       "      <td>f81a2bd5-d8e1-4734-af87-e7382a9804af</td>\n",
       "      <td>3b68815e-5344-4ff7-9060-6025de8a838f</td>\n",
       "    </tr>\n",
       "    <tr>\n",
       "      <th>dataset</th>\n",
       "      <td>196_autoMpg_dataset_TRAIN</td>\n",
       "      <td>26_radon_seed_dataset_TRAIN</td>\n",
       "      <td>LL0_1027_esl_dataset_TRAIN</td>\n",
       "      <td>196_autoMpg_dataset_TRAIN</td>\n",
       "      <td>LL0_1028_swd_dataset_TRAIN</td>\n",
       "    </tr>\n",
       "    <tr>\n",
       "      <th>metric</th>\n",
       "      <td>meanSquaredError</td>\n",
       "      <td>rootMeanSquaredError</td>\n",
       "      <td>meanSquaredError</td>\n",
       "      <td>meanSquaredError</td>\n",
       "      <td>meanSquaredError</td>\n",
       "    </tr>\n",
       "    <tr>\n",
       "      <th>name</th>\n",
       "      <td>trivial.median</td>\n",
       "      <td>trivial.median</td>\n",
       "      <td>trivial.median</td>\n",
       "      <td>categorical_encoder/imputer/standard_scaler/xg...</td>\n",
       "      <td>trivial.median</td>\n",
       "    </tr>\n",
       "    <tr>\n",
       "      <th>rank</th>\n",
       "      <td>64.3087</td>\n",
       "      <td>0.836823</td>\n",
       "      <td>2.19311</td>\n",
       "      <td>9.07949</td>\n",
       "      <td>0.702826</td>\n",
       "    </tr>\n",
       "    <tr>\n",
       "      <th>score</th>\n",
       "      <td>64.3087</td>\n",
       "      <td>0.836823</td>\n",
       "      <td>2.19311</td>\n",
       "      <td>9.07949</td>\n",
       "      <td>0.702826</td>\n",
       "    </tr>\n",
       "    <tr>\n",
       "      <th>template</th>\n",
       "      <td>None</td>\n",
       "      <td>None</td>\n",
       "      <td>None</td>\n",
       "      <td>5bd0cf9849e71569e8bf8013</td>\n",
       "      <td>None</td>\n",
       "    </tr>\n",
       "    <tr>\n",
       "      <th>test_id</th>\n",
       "      <td>20181024200501872083</td>\n",
       "      <td>20181024200501872083</td>\n",
       "      <td>20181024200501872083</td>\n",
       "      <td>20181024200501872083</td>\n",
       "      <td>20181024200501872083</td>\n",
       "    </tr>\n",
       "    <tr>\n",
       "      <th>pipeline</th>\n",
       "      <td>trivial.median</td>\n",
       "      <td>trivial.median</td>\n",
       "      <td>trivial.median</td>\n",
       "      <td>categorical_encoder/imputer/standard_scaler/xg...</td>\n",
       "      <td>trivial.median</td>\n",
       "    </tr>\n",
       "    <tr>\n",
       "      <th>data_modality</th>\n",
       "      <td>single_table</td>\n",
       "      <td>single_table</td>\n",
       "      <td>single_table</td>\n",
       "      <td>single_table</td>\n",
       "      <td>single_table</td>\n",
       "    </tr>\n",
       "    <tr>\n",
       "      <th>task_type</th>\n",
       "      <td>regression</td>\n",
       "      <td>regression</td>\n",
       "      <td>regression</td>\n",
       "      <td>regression</td>\n",
       "      <td>regression</td>\n",
       "    </tr>\n",
       "  </tbody>\n",
       "</table>\n",
       "</div>"
      ],
      "text/plain": [
       "                                                  0  \\\n",
       "_id            032daa76-954d-44b8-b925-68749386dc66   \n",
       "dataset                   196_autoMpg_dataset_TRAIN   \n",
       "metric                             meanSquaredError   \n",
       "name                                 trivial.median   \n",
       "rank                                        64.3087   \n",
       "score                                       64.3087   \n",
       "template                                       None   \n",
       "test_id                        20181024200501872083   \n",
       "pipeline                             trivial.median   \n",
       "data_modality                          single_table   \n",
       "task_type                                regression   \n",
       "\n",
       "                                                  1  \\\n",
       "_id            a65840c8-b455-4190-9eb8-1ab6727dfd2a   \n",
       "dataset                 26_radon_seed_dataset_TRAIN   \n",
       "metric                         rootMeanSquaredError   \n",
       "name                                 trivial.median   \n",
       "rank                                       0.836823   \n",
       "score                                      0.836823   \n",
       "template                                       None   \n",
       "test_id                        20181024200501872083   \n",
       "pipeline                             trivial.median   \n",
       "data_modality                          single_table   \n",
       "task_type                                regression   \n",
       "\n",
       "                                                  2  \\\n",
       "_id            b28fc76a-56fa-4eb8-9fcb-8a9b6665c3fc   \n",
       "dataset                  LL0_1027_esl_dataset_TRAIN   \n",
       "metric                             meanSquaredError   \n",
       "name                                 trivial.median   \n",
       "rank                                        2.19311   \n",
       "score                                       2.19311   \n",
       "template                                       None   \n",
       "test_id                        20181024200501872083   \n",
       "pipeline                             trivial.median   \n",
       "data_modality                          single_table   \n",
       "task_type                                regression   \n",
       "\n",
       "                                                               3  \\\n",
       "_id                         f81a2bd5-d8e1-4734-af87-e7382a9804af   \n",
       "dataset                                196_autoMpg_dataset_TRAIN   \n",
       "metric                                          meanSquaredError   \n",
       "name           categorical_encoder/imputer/standard_scaler/xg...   \n",
       "rank                                                     9.07949   \n",
       "score                                                    9.07949   \n",
       "template                                5bd0cf9849e71569e8bf8013   \n",
       "test_id                                     20181024200501872083   \n",
       "pipeline       categorical_encoder/imputer/standard_scaler/xg...   \n",
       "data_modality                                       single_table   \n",
       "task_type                                             regression   \n",
       "\n",
       "                                                  4  \n",
       "_id            3b68815e-5344-4ff7-9060-6025de8a838f  \n",
       "dataset                  LL0_1028_swd_dataset_TRAIN  \n",
       "metric                             meanSquaredError  \n",
       "name                                 trivial.median  \n",
       "rank                                       0.702826  \n",
       "score                                      0.702826  \n",
       "template                                       None  \n",
       "test_id                        20181024200501872083  \n",
       "pipeline                             trivial.median  \n",
       "data_modality                          single_table  \n",
       "task_type                                regression  "
      ]
     },
     "execution_count": 57,
     "metadata": {},
     "output_type": "execute_result"
    }
   ],
   "source": [
    "sdf2.head().T"
   ]
  },
  {
   "cell_type": "code",
   "execution_count": 41,
   "metadata": {},
   "outputs": [],
   "source": [
    "DATA = '../../piex-data/'"
   ]
  },
  {
   "cell_type": "code",
   "execution_count": 58,
   "metadata": {},
   "outputs": [],
   "source": [
    "def dump_csv(df, collection):\n",
    "    df.to_csv(os.path.join(DATA, 'csvs', collection + '.csv.gz'), index=False, compression='gzip')\n",
    "\n",
    "dump_csv(dbex.get_pipelines(), 'pipelines')\n",
    "dump_csv(dbex.get_tests(), 'tests')\n",
    "dump_csv(dbex.get_test_results(), 'test_results')"
   ]
  },
  {
   "cell_type": "code",
   "execution_count": 23,
   "metadata": {},
   "outputs": [],
   "source": [
    "templates = dict()\n",
    "for template in db.pipelines.find():\n",
    "    template = restore_dots(template)\n",
    "    metadata = template['metadata']\n",
    "    template_name = metadata['name'].replace('/', '.')\n",
    "    template['id'] = str(template.pop('_id'))\n",
    "    metadata['insert_ts'] = metadata['insert_ts'].isoformat()\n",
    "    templates[template_name] = template"
   ]
  },
  {
   "cell_type": "code",
   "execution_count": 24,
   "metadata": {},
   "outputs": [
    {
     "data": {
      "text/plain": [
       "('single_table.time_series_forecasting.default',\n",
       " {'metadata': {'name': 'single_table/time_series_forecasting/default',\n",
       "   'data_type': 'single_table',\n",
       "   'task_type': 'time_series_forecasting',\n",
       "   'insert_ts': '2018-10-23T04:58:04.948000'},\n",
       "  'primitives': ['featuretools.dfs',\n",
       "   'sklearn.preprocessing.Imputer',\n",
       "   'sklearn.preprocessing.StandardScaler',\n",
       "   'xgboost.XGBRegressor'],\n",
       "  'hyperparameters': {'xgboost.XGBRegressor#1': {'n_jobs': -1,\n",
       "    'learning_rate': 0.1,\n",
       "    'n_estimators': 300,\n",
       "    'max_depth': 3,\n",
       "    'gamma': 0,\n",
       "    'min_child_weight': 1}},\n",
       "  'init_params': {'featuretools.dfs#1': {'encode': True}},\n",
       "  'id': '5bceaa5c49e71569e8bf7f7a'})"
      ]
     },
     "execution_count": 24,
     "metadata": {},
     "output_type": "execute_result"
    }
   ],
   "source": [
    "list(templates.items())[0]"
   ]
  },
  {
   "cell_type": "code",
   "execution_count": 10,
   "metadata": {},
   "outputs": [],
   "source": [
    "tests = db.tests.find({'test_id': {'$gte': '20181024200501872083'}})"
   ]
  },
  {
   "cell_type": "code",
   "execution_count": 11,
   "metadata": {},
   "outputs": [],
   "source": [
    "test_ids = set(test['test_id'] for test in tests)"
   ]
  },
  {
   "cell_type": "code",
   "execution_count": 26,
   "metadata": {},
   "outputs": [],
   "source": [
    "import json\n",
    "import os\n",
    "import gzip\n",
    "\n",
    "for name, template in templates.items():\n",
    "    template['id'] = str(template['id'])\n",
    "    template['metadata']['insert_ts'] = str(template['id'])\n",
    "    filename = os.path.join(DATA, 'templates', name + '.json.gz')\n",
    "    with gzip.open(filename, 'wt') as f:\n",
    "        json.dump(template, f, indent=4)"
   ]
  },
  {
   "cell_type": "code",
   "execution_count": 27,
   "metadata": {},
   "outputs": [],
   "source": [
    "def dump_pipeline(pipeline):\n",
    "    pipeline['ts'] = pipeline['ts'].isoformat()\n",
    "    filename = os.path.join(DATA, 'pipelines', pipeline['id'] + '.json.gz')\n",
    "    with gzip.open(filename, 'wt') as pipeline_file:\n",
    "        json.dump(restore_dots(pipeline), pipeline_file)"
   ]
  },
  {
   "cell_type": "code",
   "execution_count": 28,
   "metadata": {},
   "outputs": [],
   "source": [
    "from tqdm import  tqdm_notebook"
   ]
  },
  {
   "cell_type": "code",
   "execution_count": 29,
   "metadata": {},
   "outputs": [],
   "source": [
    "query = {}\n",
    "cursor = db.solutions.find(query)\n",
    "total = db.solutions.count_documents(query)"
   ]
  },
  {
   "cell_type": "code",
   "execution_count": 30,
   "metadata": {},
   "outputs": [
    {
     "data": {
      "text/plain": [
       "3558442"
      ]
     },
     "execution_count": 30,
     "metadata": {},
     "output_type": "execute_result"
    }
   ],
   "source": [
    "total"
   ]
  },
  {
   "cell_type": "code",
   "execution_count": 31,
   "metadata": {},
   "outputs": [
    {
     "data": {
      "application/vnd.jupyter.widget-view+json": {
       "model_id": "ead3d52ea8524486a02aaf3dfb82e637",
       "version_major": 2,
       "version_minor": 0
      },
      "text/plain": [
       "HBox(children=(IntProgress(value=0, max=3558442), HTML(value='')))"
      ]
     },
     "metadata": {},
     "output_type": "display_data"
    }
   ],
   "source": [
    "for pipeline in tqdm_notebook(cursor, total=total):\n",
    "    dump_pipeline(pipeline)"
   ]
  }
 ],
 "metadata": {
  "kernelspec": {
   "display_name": "Python 3",
   "language": "python",
   "name": "python3"
  },
  "language_info": {
   "codemirror_mode": {
    "name": "ipython",
    "version": 3
   },
   "file_extension": ".py",
   "mimetype": "text/x-python",
   "name": "python",
   "nbconvert_exporter": "python",
   "pygments_lexer": "ipython3",
   "version": "3.6.6"
  }
 },
 "nbformat": 4,
 "nbformat_minor": 2
}
