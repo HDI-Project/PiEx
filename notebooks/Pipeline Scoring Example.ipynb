{
 "cells": [
  {
   "cell_type": "code",
   "execution_count": 1,
   "metadata": {},
   "outputs": [
    {
     "name": "stderr",
     "output_type": "stream",
     "text": [
      "Using TensorFlow backend.\n"
     ]
    }
   ],
   "source": [
    "import mlblocks\n",
    "\n",
    "from piex.explorer import S3PipelineExplorer\n",
    "\n",
    "import warnings\n",
    "warnings.filterwarnings(\"ignore\", category=DeprecationWarning)\n",
    "\n",
    "s3ex = S3PipelineExplorer('ml-pipelines-2018')"
   ]
  },
  {
   "cell_type": "code",
   "execution_count": 2,
   "metadata": {},
   "outputs": [
    {
     "data": {
      "text/plain": [
       "_id                           17385666-31da-4b6e-ab7f-8ac7080a4d55\n",
       "data_modality                                         single_table\n",
       "dataset                                 185_baseball_dataset_TRAIN\n",
       "metric                                                     f1Macro\n",
       "name             categorical_encoder/imputer/standard_scaler/xg...\n",
       "rank                                                      0.307887\n",
       "score                                                     0.692113\n",
       "task_type                                           classification\n",
       "template                                  5bd0ce5249e71569e8bf8003\n",
       "test_id                                       20181024234726559170\n",
       "Name: 1149699, dtype: object"
      ]
     },
     "execution_count": 2,
     "metadata": {},
     "output_type": "execute_result"
    }
   ],
   "source": [
    "s3ex.get_best_pipeline('185_baseball')"
   ]
  },
  {
   "cell_type": "code",
   "execution_count": 3,
   "metadata": {},
   "outputs": [],
   "source": [
    "template_name = s3ex.get_best_template('185_baseball')"
   ]
  },
  {
   "cell_type": "code",
   "execution_count": 4,
   "metadata": {},
   "outputs": [
    {
     "data": {
      "text/plain": [
       "'categorical_encoder/imputer/standard_scaler/xgbclassifier'"
      ]
     },
     "execution_count": 4,
     "metadata": {},
     "output_type": "execute_result"
    }
   ],
   "source": [
    "template_name"
   ]
  },
  {
   "cell_type": "code",
   "execution_count": 5,
   "metadata": {},
   "outputs": [
    {
     "data": {
      "text/plain": [
       "(0.6320611520146835, 0.10206215463909411)"
      ]
     },
     "execution_count": 5,
     "metadata": {},
     "output_type": "execute_result"
    }
   ],
   "source": [
    "s3ex.test_pipeline(template_name, '185_baseball')"
   ]
  },
  {
   "cell_type": "code",
   "execution_count": 6,
   "metadata": {},
   "outputs": [
    {
     "data": {
      "text/plain": [
       "{'mlprimitives.feature_extraction.CategoricalEncoder#1': {'max_labels': {'type': 'int',\n",
       "   'default': 0,\n",
       "   'range': [0, 100]}},\n",
       " 'sklearn.preprocessing.Imputer#1': {'strategy': {'type': 'str',\n",
       "   'default': 'mean',\n",
       "   'values': ['mean', 'median', 'most_frequent']}},\n",
       " 'sklearn.preprocessing.StandardScaler#1': {'with_mean': {'type': 'bool',\n",
       "   'default': True},\n",
       "  'with_std': {'type': 'bool', 'default': True}},\n",
       " 'mlprimitives.preprocessing.ClassEncoder#1': {},\n",
       " 'xgboost.XGBClassifier#1': {'n_estimators': {'type': 'int',\n",
       "   'default': 100,\n",
       "   'range': [10, 1000]},\n",
       "  'max_depth': {'type': 'int', 'default': 3, 'range': [3, 10]},\n",
       "  'learning_rate': {'type': 'float', 'default': 0.1, 'range': [0, 1]},\n",
       "  'gamma': {'type': 'float', 'default': 0, 'range': [0, 1]},\n",
       "  'min_child_weight': {'type': 'int', 'default': 1, 'range': [1, 10]}},\n",
       " 'mlprimitives.preprocessing.ClassDecoder#1': {}}"
      ]
     },
     "execution_count": 6,
     "metadata": {},
     "output_type": "execute_result"
    }
   ],
   "source": [
    "hps = s3ex.get_tunable_hyperparameters(template_name)\n",
    "hps"
   ]
  },
  {
   "cell_type": "code",
   "execution_count": 7,
   "metadata": {},
   "outputs": [],
   "source": [
    "hyperparameters = s3ex.get_default_hyperparameters(template_name)"
   ]
  },
  {
   "cell_type": "code",
   "execution_count": 8,
   "metadata": {},
   "outputs": [
    {
     "data": {
      "text/plain": [
       "{'mlprimitives.feature_extraction.CategoricalEncoder#1': {'copy': True,\n",
       "  'features': 'auto',\n",
       "  'max_labels': 0},\n",
       " 'sklearn.preprocessing.Imputer#1': {'missing_values': 'NaN',\n",
       "  'axis': 0,\n",
       "  'copy': True,\n",
       "  'strategy': 'mean'},\n",
       " 'sklearn.preprocessing.StandardScaler#1': {'with_mean': True,\n",
       "  'with_std': True},\n",
       " 'mlprimitives.preprocessing.ClassEncoder#1': {},\n",
       " 'xgboost.XGBClassifier#1': {'n_jobs': -1,\n",
       "  'n_estimators': 100,\n",
       "  'max_depth': 3,\n",
       "  'learning_rate': 0.1,\n",
       "  'gamma': 0,\n",
       "  'min_child_weight': 1},\n",
       " 'mlprimitives.preprocessing.ClassDecoder#1': {}}"
      ]
     },
     "execution_count": 8,
     "metadata": {},
     "output_type": "execute_result"
    }
   ],
   "source": [
    "hyperparameters"
   ]
  },
  {
   "cell_type": "code",
   "execution_count": 9,
   "metadata": {},
   "outputs": [],
   "source": [
    "hyperparameters['xgboost.XGBClassifier#1']['n_estimators'] = 50"
   ]
  },
  {
   "cell_type": "code",
   "execution_count": 10,
   "metadata": {},
   "outputs": [
    {
     "data": {
      "text/plain": [
       "(0.639406131007297, 0.08551614234542294)"
      ]
     },
     "execution_count": 10,
     "metadata": {},
     "output_type": "execute_result"
    }
   ],
   "source": [
    "s3ex.test_pipeline(template_name, '185_baseball', hyperparameters)"
   ]
  }
 ],
 "metadata": {
  "kernelspec": {
   "display_name": "Python 3",
   "language": "python",
   "name": "python3"
  },
  "language_info": {
   "codemirror_mode": {
    "name": "ipython",
    "version": 3
   },
   "file_extension": ".py",
   "mimetype": "text/x-python",
   "name": "python",
   "nbconvert_exporter": "python",
   "pygments_lexer": "ipython3",
   "version": "3.6.6"
  }
 },
 "nbformat": 4,
 "nbformat_minor": 2
}
