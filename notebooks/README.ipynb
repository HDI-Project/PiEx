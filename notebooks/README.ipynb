{
 "cells": [
  {
   "cell_type": "markdown",
   "metadata": {},
   "source": [
    "[![PyPI Shield](https://img.shields.io/pypi/v/piex.svg)](https://pypi.python.org/pypi/piex)\n",
    "[![Travis CI Shield](https://travis-ci.org/HDI-Project/piex.svg?branch=master)](https://travis-ci.org/HDI-Project/piex)\n",
    "\n",
    "# Pipeline Explorer\n",
    "\n",
    "Classes and functions to explore and reproce the performance obtained by\n",
    "thousands of MLBlocks pipelines and templates accross hundreds of datasets.\n",
    "\n",
    "- Free software: MIT license\n",
    "- Documentation: https://HDI-Project.github.io/piex\n",
    "- Homepage: https://github.com/HDI-Project/piex\n",
    "\n",
    "\n",
    "# Getting Started\n",
    "\n",
    "## Installation\n",
    "\n",
    "```bash\n",
    "git clone git@github.com:HDI-Project/piex.git\n",
    "cd piex\n",
    "pip install -e .\n",
    "```\n",
    "\n",
    "# Usage\n",
    "\n",
    "## The S3PipelineExplorer\n",
    "\n",
    "The **S3PipelineExplorer** class provides methods to download the results from previous\n",
    "tests executions from S3, see which pipelines obtained the best scores and load them\n",
    "as a dictionary, ready to be used by an MLPipeline.\n",
    "\n",
    "To start working with it, it needs to be given the name of the S3 Bucket from which\n",
    "the data will be downloaded.\n",
    "\n",
    "For this examples, we will be using the `ml-pipelines-2018` bucket, where the results\n",
    "of the experiments run for the Machine Learning Bazaar paper can be found."
   ]
  },
  {
   "cell_type": "code",
   "execution_count": 1,
   "metadata": {},
   "outputs": [
    {
     "name": "stderr",
     "output_type": "stream",
     "text": [
      "Using TensorFlow backend.\n"
     ]
    }
   ],
   "source": [
    "from piex.explorer import S3PipelineExplorer\n",
    "\n",
    "piex = S3PipelineExplorer('ml-pipelines-2018')"
   ]
  },
  {
   "cell_type": "code",
   "execution_count": 2,
   "metadata": {},
   "outputs": [],
   "source": [
    "import mlblocks\n",
    "\n",
    "import warnings\n",
    "warnings.filterwarnings(\"ignore\", category=DeprecationWarning)"
   ]
  },
  {
   "cell_type": "markdown",
   "metadata": {},
   "source": [
    "### The Datasets\n",
    "\n",
    "The `get_datasets` method returns a `pandas.DataFrame` with information about the\n",
    "available datasets."
   ]
  },
  {
   "cell_type": "code",
   "execution_count": 3,
   "metadata": {},
   "outputs": [
    {
     "data": {
      "text/html": [
       "<div>\n",
       "<style scoped>\n",
       "    .dataframe tbody tr th:only-of-type {\n",
       "        vertical-align: middle;\n",
       "    }\n",
       "\n",
       "    .dataframe tbody tr th {\n",
       "        vertical-align: top;\n",
       "    }\n",
       "\n",
       "    .dataframe thead th {\n",
       "        text-align: right;\n",
       "    }\n",
       "</style>\n",
       "<table border=\"1\" class=\"dataframe\">\n",
       "  <thead>\n",
       "    <tr style=\"text-align: right;\">\n",
       "      <th></th>\n",
       "      <th>dataset</th>\n",
       "      <th>data_modality</th>\n",
       "      <th>task_type</th>\n",
       "      <th>task_subtype</th>\n",
       "    </tr>\n",
       "  </thead>\n",
       "  <tbody>\n",
       "    <tr>\n",
       "      <th>314</th>\n",
       "      <td>124_120_mnist</td>\n",
       "      <td>image</td>\n",
       "      <td>classification</td>\n",
       "      <td>multi_class</td>\n",
       "    </tr>\n",
       "    <tr>\n",
       "      <th>315</th>\n",
       "      <td>124_138_cifar100</td>\n",
       "      <td>image</td>\n",
       "      <td>classification</td>\n",
       "      <td>multi_class</td>\n",
       "    </tr>\n",
       "    <tr>\n",
       "      <th>316</th>\n",
       "      <td>124_153_svhn_cropped</td>\n",
       "      <td>image</td>\n",
       "      <td>classification</td>\n",
       "      <td>multi_class</td>\n",
       "    </tr>\n",
       "    <tr>\n",
       "      <th>317</th>\n",
       "      <td>124_174_cifar10</td>\n",
       "      <td>image</td>\n",
       "      <td>classification</td>\n",
       "      <td>multi_class</td>\n",
       "    </tr>\n",
       "    <tr>\n",
       "      <th>318</th>\n",
       "      <td>124_178_coil100</td>\n",
       "      <td>image</td>\n",
       "      <td>classification</td>\n",
       "      <td>multi_class</td>\n",
       "    </tr>\n",
       "  </tbody>\n",
       "</table>\n",
       "</div>"
      ],
      "text/plain": [
       "                  dataset data_modality       task_type task_subtype\n",
       "314         124_120_mnist         image  classification  multi_class\n",
       "315      124_138_cifar100         image  classification  multi_class\n",
       "316  124_153_svhn_cropped         image  classification  multi_class\n",
       "317       124_174_cifar10         image  classification  multi_class\n",
       "318       124_178_coil100         image  classification  multi_class"
      ]
     },
     "execution_count": 3,
     "metadata": {},
     "output_type": "execute_result"
    }
   ],
   "source": [
    "datasets = piex.get_datasets()\n",
    "datasets.head()"
   ]
  },
  {
   "cell_type": "code",
   "execution_count": 6,
   "metadata": {},
   "outputs": [
    {
     "data": {
      "text/html": [
       "<div>\n",
       "<style scoped>\n",
       "    .dataframe tbody tr th:only-of-type {\n",
       "        vertical-align: middle;\n",
       "    }\n",
       "\n",
       "    .dataframe tbody tr th {\n",
       "        vertical-align: top;\n",
       "    }\n",
       "\n",
       "    .dataframe thead th {\n",
       "        text-align: right;\n",
       "    }\n",
       "</style>\n",
       "<table border=\"1\" class=\"dataframe\">\n",
       "  <thead>\n",
       "    <tr style=\"text-align: right;\">\n",
       "      <th></th>\n",
       "      <th>dataset</th>\n",
       "      <th>data_modality</th>\n",
       "      <th>task_type</th>\n",
       "      <th>task_subtype</th>\n",
       "    </tr>\n",
       "  </thead>\n",
       "  <tbody>\n",
       "    <tr>\n",
       "      <th>311</th>\n",
       "      <td>uu2_gp_hyperparameter_estimation</td>\n",
       "      <td>multi_table</td>\n",
       "      <td>regression</td>\n",
       "      <td>multivariate</td>\n",
       "    </tr>\n",
       "    <tr>\n",
       "      <th>312</th>\n",
       "      <td>uu3_world_development_indicators</td>\n",
       "      <td>multi_table</td>\n",
       "      <td>regression</td>\n",
       "      <td>univariate</td>\n",
       "    </tr>\n",
       "  </tbody>\n",
       "</table>\n",
       "</div>"
      ],
      "text/plain": [
       "                              dataset data_modality   task_type  task_subtype\n",
       "311  uu2_gp_hyperparameter_estimation   multi_table  regression  multivariate\n",
       "312  uu3_world_development_indicators   multi_table  regression    univariate"
      ]
     },
     "execution_count": 6,
     "metadata": {},
     "output_type": "execute_result"
    }
   ],
   "source": [
    "datasets = piex.get_datasets(data_modality='multi_table', task_type='regression')\n",
    "datasets.head()"
   ]
  },
  {
   "cell_type": "markdown",
   "metadata": {},
   "source": [
    "### The Experiments\n",
    "\n",
    "The list of that have been executed can be obtained with the method `get_tests`.\n",
    "\n",
    "Just like the `get_datasets`, any keyword arguments will be used to filter the results."
   ]
  },
  {
   "cell_type": "code",
   "execution_count": 7,
   "metadata": {},
   "outputs": [
    {
     "data": {
      "text/html": [
       "<div>\n",
       "<style scoped>\n",
       "    .dataframe tbody tr th:only-of-type {\n",
       "        vertical-align: middle;\n",
       "    }\n",
       "\n",
       "    .dataframe tbody tr th {\n",
       "        vertical-align: top;\n",
       "    }\n",
       "\n",
       "    .dataframe thead th {\n",
       "        text-align: right;\n",
       "    }\n",
       "</style>\n",
       "<table border=\"1\" class=\"dataframe\">\n",
       "  <thead>\n",
       "    <tr style=\"text-align: right;\">\n",
       "      <th></th>\n",
       "      <th></th>\n",
       "      <th>count</th>\n",
       "    </tr>\n",
       "    <tr>\n",
       "      <th>data_modality</th>\n",
       "      <th>task_type</th>\n",
       "      <th></th>\n",
       "    </tr>\n",
       "  </thead>\n",
       "  <tbody>\n",
       "    <tr>\n",
       "      <th rowspan=\"4\" valign=\"top\">graph</th>\n",
       "      <th>community_detection</th>\n",
       "      <td>5</td>\n",
       "    </tr>\n",
       "    <tr>\n",
       "      <th>graph_matching</th>\n",
       "      <td>18</td>\n",
       "    </tr>\n",
       "    <tr>\n",
       "      <th>link_prediction</th>\n",
       "      <td>2</td>\n",
       "    </tr>\n",
       "    <tr>\n",
       "      <th>vertex_nomination</th>\n",
       "      <td>2</td>\n",
       "    </tr>\n",
       "    <tr>\n",
       "      <th rowspan=\"2\" valign=\"top\">image</th>\n",
       "      <th>classification</th>\n",
       "      <td>57</td>\n",
       "    </tr>\n",
       "    <tr>\n",
       "      <th>regression</th>\n",
       "      <td>1</td>\n",
       "    </tr>\n",
       "    <tr>\n",
       "      <th rowspan=\"2\" valign=\"top\">multi_table</th>\n",
       "      <th>classification</th>\n",
       "      <td>1</td>\n",
       "    </tr>\n",
       "    <tr>\n",
       "      <th>regression</th>\n",
       "      <td>1</td>\n",
       "    </tr>\n",
       "    <tr>\n",
       "      <th rowspan=\"4\" valign=\"top\">single_table</th>\n",
       "      <th>classification</th>\n",
       "      <td>1405</td>\n",
       "    </tr>\n",
       "    <tr>\n",
       "      <th>collaborative_filtering</th>\n",
       "      <td>1</td>\n",
       "    </tr>\n",
       "    <tr>\n",
       "      <th>regression</th>\n",
       "      <td>430</td>\n",
       "    </tr>\n",
       "    <tr>\n",
       "      <th>time_series_forecasting</th>\n",
       "      <td>175</td>\n",
       "    </tr>\n",
       "    <tr>\n",
       "      <th>text</th>\n",
       "      <th>classification</th>\n",
       "      <td>17</td>\n",
       "    </tr>\n",
       "    <tr>\n",
       "      <th>timeseries</th>\n",
       "      <th>classification</th>\n",
       "      <td>37</td>\n",
       "    </tr>\n",
       "  </tbody>\n",
       "</table>\n",
       "</div>"
      ],
      "text/plain": [
       "                                       count\n",
       "data_modality task_type                     \n",
       "graph         community_detection          5\n",
       "              graph_matching              18\n",
       "              link_prediction              2\n",
       "              vertex_nomination            2\n",
       "image         classification              57\n",
       "              regression                   1\n",
       "multi_table   classification               1\n",
       "              regression                   1\n",
       "single_table  classification            1405\n",
       "              collaborative_filtering      1\n",
       "              regression                 430\n",
       "              time_series_forecasting    175\n",
       "text          classification              17\n",
       "timeseries    classification              37"
      ]
     },
     "execution_count": 7,
     "metadata": {},
     "output_type": "execute_result"
    }
   ],
   "source": [
    "import pandas as pd\n",
    "\n",
    "tests = piex.get_tests()\n",
    "pd.DataFrame(tests.groupby(['data_modality', 'task_type']).size(), columns=['count'])"
   ]
  },
  {
   "cell_type": "code",
   "execution_count": 8,
   "metadata": {},
   "outputs": [
    {
     "data": {
      "text/html": [
       "<div>\n",
       "<style scoped>\n",
       "    .dataframe tbody tr th:only-of-type {\n",
       "        vertical-align: middle;\n",
       "    }\n",
       "\n",
       "    .dataframe tbody tr th {\n",
       "        vertical-align: top;\n",
       "    }\n",
       "\n",
       "    .dataframe thead th {\n",
       "        text-align: right;\n",
       "    }\n",
       "</style>\n",
       "<table border=\"1\" class=\"dataframe\">\n",
       "  <thead>\n",
       "    <tr style=\"text-align: right;\">\n",
       "      <th></th>\n",
       "      <th>dataset</th>\n",
       "      <th>pipeline</th>\n",
       "      <th>checkpoints</th>\n",
       "      <th>test_id</th>\n",
       "    </tr>\n",
       "  </thead>\n",
       "  <tbody>\n",
       "    <tr>\n",
       "      <th>1716</th>\n",
       "      <td>59_umls</td>\n",
       "      <td>NaN</td>\n",
       "      <td>[900, 1800, 3600, 7200]</td>\n",
       "      <td>20181031040541366347</td>\n",
       "    </tr>\n",
       "    <tr>\n",
       "      <th>2141</th>\n",
       "      <td>59_umls</td>\n",
       "      <td>graph/link_prediction/random_forest_classifier</td>\n",
       "      <td>[900, 1800, 3600, 7200]</td>\n",
       "      <td>20181031182305995728</td>\n",
       "    </tr>\n",
       "  </tbody>\n",
       "</table>\n",
       "</div>"
      ],
      "text/plain": [
       "      dataset                                        pipeline  \\\n",
       "1716  59_umls                                             NaN   \n",
       "2141  59_umls  graph/link_prediction/random_forest_classifier   \n",
       "\n",
       "                  checkpoints               test_id  \n",
       "1716  [900, 1800, 3600, 7200]  20181031040541366347  \n",
       "2141  [900, 1800, 3600, 7200]  20181031182305995728  "
      ]
     },
     "execution_count": 8,
     "metadata": {},
     "output_type": "execute_result"
    }
   ],
   "source": [
    "tests = piex.get_tests(data_modality='graph', task_type='link_prediction')\n",
    "tests[['dataset', 'pipeline', 'checkpoints', 'test_id']]"
   ]
  },
  {
   "cell_type": "markdown",
   "metadata": {},
   "source": [
    "### The Experiment Results\n",
    "\n",
    "The results of the experiments can be seen using the `get_experiment_results` method.\n",
    "\n",
    "These results include both the cross validation score obtained by the pipeline during\n",
    "the tuning, as well as the score obtained by this pipeline once it has been fitted\n",
    "using the training data and then used to make predictions over the test data.\n",
    "\n",
    "Just like the `get_datasets`, any keyword arguments will be used to filter the results,\n",
    "including the `test_id`."
   ]
  },
  {
   "cell_type": "code",
   "execution_count": 9,
   "metadata": {},
   "outputs": [
    {
     "data": {
      "text/html": [
       "<div>\n",
       "<style scoped>\n",
       "    .dataframe tbody tr th:only-of-type {\n",
       "        vertical-align: middle;\n",
       "    }\n",
       "\n",
       "    .dataframe tbody tr th {\n",
       "        vertical-align: top;\n",
       "    }\n",
       "\n",
       "    .dataframe thead th {\n",
       "        text-align: right;\n",
       "    }\n",
       "</style>\n",
       "<table border=\"1\" class=\"dataframe\">\n",
       "  <thead>\n",
       "    <tr style=\"text-align: right;\">\n",
       "      <th></th>\n",
       "      <th>test_id</th>\n",
       "      <th>pipeline</th>\n",
       "      <th>score</th>\n",
       "      <th>cv_score</th>\n",
       "      <th>elapsed</th>\n",
       "      <th>iterations</th>\n",
       "    </tr>\n",
       "  </thead>\n",
       "  <tbody>\n",
       "    <tr>\n",
       "      <th>7464</th>\n",
       "      <td>20181031182305995728</td>\n",
       "      <td>graph/link_prediction/random_forest_classifier</td>\n",
       "      <td>0.499853</td>\n",
       "      <td>0.843175</td>\n",
       "      <td>900.255511</td>\n",
       "      <td>435.0</td>\n",
       "    </tr>\n",
       "    <tr>\n",
       "      <th>7465</th>\n",
       "      <td>20181031182305995728</td>\n",
       "      <td>graph/link_prediction/random_forest_classifier</td>\n",
       "      <td>0.499853</td>\n",
       "      <td>0.854603</td>\n",
       "      <td>1800.885417</td>\n",
       "      <td>805.0</td>\n",
       "    </tr>\n",
       "    <tr>\n",
       "      <th>7466</th>\n",
       "      <td>20181031182305995728</td>\n",
       "      <td>graph/link_prediction/random_forest_classifier</td>\n",
       "      <td>0.499853</td>\n",
       "      <td>0.854603</td>\n",
       "      <td>3600.005072</td>\n",
       "      <td>1432.0</td>\n",
       "    </tr>\n",
       "    <tr>\n",
       "      <th>7467</th>\n",
       "      <td>20181031182305995728</td>\n",
       "      <td>graph/link_prediction/random_forest_classifier</td>\n",
       "      <td>0.785568</td>\n",
       "      <td>0.860000</td>\n",
       "      <td>7200.225256</td>\n",
       "      <td>2366.0</td>\n",
       "    </tr>\n",
       "  </tbody>\n",
       "</table>\n",
       "</div>"
      ],
      "text/plain": [
       "                   test_id                                        pipeline  \\\n",
       "7464  20181031182305995728  graph/link_prediction/random_forest_classifier   \n",
       "7465  20181031182305995728  graph/link_prediction/random_forest_classifier   \n",
       "7466  20181031182305995728  graph/link_prediction/random_forest_classifier   \n",
       "7467  20181031182305995728  graph/link_prediction/random_forest_classifier   \n",
       "\n",
       "         score  cv_score      elapsed  iterations  \n",
       "7464  0.499853  0.843175   900.255511       435.0  \n",
       "7465  0.499853  0.854603  1800.885417       805.0  \n",
       "7466  0.499853  0.854603  3600.005072      1432.0  \n",
       "7467  0.785568  0.860000  7200.225256      2366.0  "
      ]
     },
     "execution_count": 9,
     "metadata": {},
     "output_type": "execute_result"
    }
   ],
   "source": [
    "results = piex.get_test_results(test_id='20181031182305995728')\n",
    "results[['test_id', 'pipeline', 'score', 'cv_score', 'elapsed', 'iterations']]"
   ]
  },
  {
   "cell_type": "markdown",
   "metadata": {},
   "source": [
    "### The Best Pipeline\n",
    "\n",
    "Information about the best pipeline for a dataset can be obtained using the `get_best_pipeline` method.\n",
    "\n",
    "This method returns a `pandas.Series` object with information about the pipeline that obtained the\n",
    "best cross validation score during the tuning, as well as the template that was used to build it.\n",
    "\n",
    "**Note**: This call will download some data in the background the first time that it is run,\n",
    "so it might take a while to return."
   ]
  },
  {
   "cell_type": "code",
   "execution_count": 10,
   "metadata": {},
   "outputs": [
    {
     "data": {
      "text/plain": [
       "id                            17385666-31da-4b6e-ab7f-8ac7080a4d55\n",
       "dataset                                 185_baseball_dataset_TRAIN\n",
       "metric                                                     f1Macro\n",
       "name             categorical_encoder/imputer/standard_scaler/xg...\n",
       "rank                                                      0.307887\n",
       "score                                                     0.692113\n",
       "template                                  5bd0ce5249e71569e8bf8003\n",
       "test_id                                       20181024234726559170\n",
       "pipeline         categorical_encoder/imputer/standard_scaler/xg...\n",
       "data_modality                                         single_table\n",
       "task_type                                           classification\n",
       "Name: 1149699, dtype: object"
      ]
     },
     "execution_count": 10,
     "metadata": {},
     "output_type": "execute_result"
    }
   ],
   "source": [
    "piex.get_best_pipeline('185_baseball')"
   ]
  },
  {
   "cell_type": "markdown",
   "metadata": {},
   "source": [
    "Apart from obtaining this information, we can use the `load_best_pipeline` method\n",
    "to load its JSON specification, ready to be using in an `mlblocks.MLPipeline` object."
   ]
  },
  {
   "cell_type": "code",
   "execution_count": 11,
   "metadata": {
    "scrolled": false
   },
   "outputs": [
    {
     "data": {
      "text/plain": [
       "['mlprimitives.feature_extraction.CategoricalEncoder',\n",
       " 'sklearn.preprocessing.Imputer',\n",
       " 'sklearn.preprocessing.StandardScaler',\n",
       " 'mlprimitives.preprocessing.ClassEncoder',\n",
       " 'xgboost.XGBClassifier',\n",
       " 'mlprimitives.preprocessing.ClassDecoder']"
      ]
     },
     "execution_count": 11,
     "metadata": {},
     "output_type": "execute_result"
    }
   ],
   "source": [
    "pipeline = piex.load_best_pipeline('185_baseball')\n",
    "pipeline['primitives']"
   ]
  },
  {
   "cell_type": "markdown",
   "metadata": {},
   "source": [
    "### The Best Template\n",
    "\n",
    "Just like the best pipeline, the best tempalte for a given dataset can be obtained using\n",
    "the `get_best_template` method.\n",
    "\n",
    "This returns just the name of the template that was used to build the best pipeline."
   ]
  },
  {
   "cell_type": "code",
   "execution_count": 35,
   "metadata": {},
   "outputs": [
    {
     "data": {
      "text/plain": [
       "'categorical_encoder/imputer/standard_scaler/xgbclassifier'"
      ]
     },
     "execution_count": 35,
     "metadata": {},
     "output_type": "execute_result"
    }
   ],
   "source": [
    "template_name = piex.get_best_template('185_baseball')\n",
    "template_name"
   ]
  },
  {
   "cell_type": "markdown",
   "metadata": {},
   "source": [
    "This can be later on used to explore the template, obtaining its default hyperparameters:"
   ]
  },
  {
   "cell_type": "code",
   "execution_count": 37,
   "metadata": {},
   "outputs": [
    {
     "data": {
      "text/plain": [
       "{'mlprimitives.feature_extraction.CategoricalEncoder#1': {'copy': True,\n",
       "  'features': 'auto',\n",
       "  'max_labels': 0},\n",
       " 'sklearn.preprocessing.Imputer#1': {'missing_values': 'NaN',\n",
       "  'axis': 0,\n",
       "  'copy': True,\n",
       "  'strategy': 'mean'},\n",
       " 'sklearn.preprocessing.StandardScaler#1': {'with_mean': True,\n",
       "  'with_std': True},\n",
       " 'mlprimitives.preprocessing.ClassEncoder#1': {},\n",
       " 'xgboost.XGBClassifier#1': {'n_jobs': -1,\n",
       "  'n_estimators': 100,\n",
       "  'max_depth': 3,\n",
       "  'learning_rate': 0.1,\n",
       "  'gamma': 0,\n",
       "  'min_child_weight': 1},\n",
       " 'mlprimitives.preprocessing.ClassDecoder#1': {}}"
      ]
     },
     "execution_count": 37,
     "metadata": {},
     "output_type": "execute_result"
    }
   ],
   "source": [
    "defaults = piex.get_default_hyperparameters(template_name)\n",
    "defaults"
   ]
  },
  {
   "cell_type": "markdown",
   "metadata": {},
   "source": [
    "Or obtaning the corresponding tunable ranges, ready to be used with a tuner:"
   ]
  },
  {
   "cell_type": "code",
   "execution_count": 38,
   "metadata": {},
   "outputs": [
    {
     "data": {
      "text/plain": [
       "{'mlprimitives.feature_extraction.CategoricalEncoder#1': {'max_labels': {'type': 'int',\n",
       "   'default': 0,\n",
       "   'range': [0, 100]}},\n",
       " 'sklearn.preprocessing.Imputer#1': {'strategy': {'type': 'str',\n",
       "   'default': 'mean',\n",
       "   'values': ['mean', 'median', 'most_frequent']}},\n",
       " 'sklearn.preprocessing.StandardScaler#1': {'with_mean': {'type': 'bool',\n",
       "   'default': True},\n",
       "  'with_std': {'type': 'bool', 'default': True}},\n",
       " 'mlprimitives.preprocessing.ClassEncoder#1': {},\n",
       " 'xgboost.XGBClassifier#1': {'n_estimators': {'type': 'int',\n",
       "   'default': 100,\n",
       "   'range': [10, 1000]},\n",
       "  'max_depth': {'type': 'int', 'default': 3, 'range': [3, 10]},\n",
       "  'learning_rate': {'type': 'float', 'default': 0.1, 'range': [0, 1]},\n",
       "  'gamma': {'type': 'float', 'default': 0, 'range': [0, 1]},\n",
       "  'min_child_weight': {'type': 'int', 'default': 1, 'range': [1, 10]}},\n",
       " 'mlprimitives.preprocessing.ClassDecoder#1': {}}"
      ]
     },
     "execution_count": 38,
     "metadata": {},
     "output_type": "execute_result"
    }
   ],
   "source": [
    "tunable = piex.get_tunable_hyperparameters(template_name)\n",
    "tunable"
   ]
  },
  {
   "cell_type": "markdown",
   "metadata": {},
   "source": [
    "# Scoring Templates and Pipelines\n",
    "\n",
    "The **S3PipelineExplorer** class also allows cross validating templates and pipelines\n",
    "over any of the datasets.\n",
    "\n",
    "## Scoring a Pipeline\n",
    "\n",
    "The simplest use case is cross validating a pipeline over a dataset.\n",
    "For this, we must pass the ID of the pipeline and the name of the dataset to the method `score_pipeline`.\n",
    "\n",
    "The dataset can be the one that was used during the experiments or a different one."
   ]
  },
  {
   "cell_type": "code",
   "execution_count": 12,
   "metadata": {},
   "outputs": [
    {
     "data": {
      "text/plain": [
       "(0.6921128080904511, 0.09950216269594728)"
      ]
     },
     "execution_count": 12,
     "metadata": {},
     "output_type": "execute_result"
    }
   ],
   "source": [
    "piex.score_pipeline(pipeline['id'], '185_baseball')"
   ]
  },
  {
   "cell_type": "code",
   "execution_count": 23,
   "metadata": {},
   "outputs": [
    {
     "data": {
      "text/plain": [
       "(0.8897656842904123, 0.037662864373452655)"
      ]
     },
     "execution_count": 23,
     "metadata": {},
     "output_type": "execute_result"
    }
   ],
   "source": [
    "piex.score_pipeline(pipeline['id'], 'uu4_SPECT')"
   ]
  },
  {
   "cell_type": "markdown",
   "metadata": {},
   "source": [
    "Optionally, the cross validation configuration can be changed"
   ]
  },
  {
   "cell_type": "code",
   "execution_count": 24,
   "metadata": {},
   "outputs": [
    {
     "data": {
      "text/plain": [
       "(0.8869488536155202, 0.019475563687443638)"
      ]
     },
     "execution_count": 24,
     "metadata": {},
     "output_type": "execute_result"
    }
   ],
   "source": [
    "piex.score_pipeline(pipeline['id'], 'uu4_SPECT', n_splits=3, random_state=43)"
   ]
  },
  {
   "cell_type": "markdown",
   "metadata": {},
   "source": [
    "## Scoring a Template\n",
    "\n",
    "A Template can also be tested over any dataset by passing its name, the dataset and, optionally,\n",
    "the cross validation specification.\n",
    "\n",
    "If no hyperparameters are passed, the default ones will be used:"
   ]
  },
  {
   "cell_type": "code",
   "execution_count": 31,
   "metadata": {},
   "outputs": [
    {
     "data": {
      "text/plain": [
       "(0.8555346666968675, 0.028343173498423108)"
      ]
     },
     "execution_count": 31,
     "metadata": {},
     "output_type": "execute_result"
    }
   ],
   "source": [
    "piex.score_template(template_name, 'uu4_SPECT', n_splits=3, random_state=43)"
   ]
  },
  {
   "cell_type": "markdown",
   "metadata": {},
   "source": [
    "However, different hyperparameters can be passed as a dictionary:"
   ]
  },
  {
   "cell_type": "code",
   "execution_count": 49,
   "metadata": {},
   "outputs": [
    {
     "data": {
      "text/plain": [
       "(0.8754554700753094, 0.019151608028236813)"
      ]
     },
     "execution_count": 49,
     "metadata": {},
     "output_type": "execute_result"
    }
   ],
   "source": [
    "hyperparameters = piex.get_default_hyperparameters(template_name)\n",
    "hyperparameters['xgboost.XGBClassifier#1']['learning_rate'] = 1\n",
    "\n",
    "piex.score_template(template_name, 'uu4_SPECT', hyperparameters, n_splits=3, random_state=43)"
   ]
  }
 ],
 "metadata": {
  "kernelspec": {
   "display_name": "Python 3",
   "language": "python",
   "name": "python3"
  },
  "language_info": {
   "codemirror_mode": {
    "name": "ipython",
    "version": 3
   },
   "file_extension": ".py",
   "mimetype": "text/x-python",
   "name": "python",
   "nbconvert_exporter": "python",
   "pygments_lexer": "ipython3",
   "version": "3.6.6"
  }
 },
 "nbformat": 4,
 "nbformat_minor": 2
}
